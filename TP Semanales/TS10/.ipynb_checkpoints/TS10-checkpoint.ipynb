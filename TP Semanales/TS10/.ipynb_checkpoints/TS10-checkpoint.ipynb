{
 "cells": [
  {
   "cell_type": "markdown",
   "id": "eb62e7c5",
   "metadata": {},
   "source": [
    "# TS10\n",
    "\n",
    "$Z(s) = \\frac{(s^2+3)(s^2+1)}{s(s^2+2)}$\n",
    "\n",
    "Se debe hallar la topología circuital y los valores de los componentes mediante:"
   ]
  },
  {
   "attachments": {
    "image.png": {
     "image/png": "[encoded data removed]"
    }
   },
   "cell_type": "markdown",
   "id": "7205289a",
   "metadata": {},
   "source": [
    "Método de Foster en su versión  \"paralelo\" o \"derivación\".\n",
    "Como necesito la version \"derivacion\" lo paso a admitancia:\n",
    "\n",
    "$Y(s) = \\frac{s(s^2+2)}{(s^2+3)(s^2+1)}$\n",
    "\n",
    "Nos debe quedar la siguiente expresion:\n",
    "\n",
    "$Y(s) = \\frac{2 K_1 s}{s^2 + 1} +  \\frac{2 K_2 s}{s^2 + 3}$ \n",
    "\n",
    "Aplicando residuos obtenemos $K_1 y  K_2$\n",
    "\n",
    "$2 K_1 = \\frac{1}{2}$\n",
    "$2 K_2 = \\frac{1}{2}$\n",
    "\n",
    "Tambien sabemos que $\\omega_1 ^2 = 1$ y $\\omega_1 ^2 = 3$\n",
    "\n",
    "Los valores de los componentes son:\n",
    "\n",
    "$C_1 = \\frac{2 K_1 s}{\\omega_1 ^2} = 0.5$\n",
    "$C_2 = \\frac{2 K_2 s}{\\omega_2 ^2} = 0.1666$\n",
    "\n",
    "$L_1 = \\frac{1}{2 K_1 s} = 2$\n",
    "$L_2 = \\frac{1}{2 K_2 s} = 2$\n",
    "\n",
    "![image.png](attachment:image.png)"
   ]
  },
  {
   "cell_type": "markdown",
   "id": "e9ea99af",
   "metadata": {},
   "source": [
    "Ahora debemos sintetizar el mismo circuito por el metodo de Cauer 1 y 2:"
   ]
  },
  {
   "cell_type": "code",
   "execution_count": null,
   "id": "9d64973b",
   "metadata": {},
   "outputs": [],
   "source": [
    "import numpy as np\n",
    "\n",
    "num = np.array[(1,0,4,0,3)]\n",
    "den = np.array[(1,0,2,0)]\n",
    "\n"
   ]
  }
 ],
 "metadata": {
  "kernelspec": {
   "display_name": "Python 3 (ipykernel)",
   "language": "python",
   "name": "python3"
  },
  "language_info": {
   "codemirror_mode": {
    "name": "ipython",
    "version": 3
   },
   "file_extension": ".py",
   "mimetype": "text/x-python",
   "name": "python",
   "nbconvert_exporter": "python",
   "pygments_lexer": "ipython3",
   "version": "3.9.12"
  }
 },
 "nbformat": 4,
 "nbformat_minor": 5
}
