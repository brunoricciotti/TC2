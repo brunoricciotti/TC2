{
 "cells": [
  {
   "cell_type": "code",
   "execution_count": 10,
   "id": "f06b771e",
   "metadata": {},
   "outputs": [
    {
     "data": {
      "text/plain": [
       "'Z2'"
      ]
     },
     "metadata": {},
     "output_type": "display_data"
    },
    {
     "data": {
      "text/latex": [
       "$\\displaystyle \\frac{s^{3} \\left(s^{3} + s^{2} + s + \\frac{1}{2}\\right)}{\\left(s^{3} + 2 s^{2} + 2 s + 1\\right)^{2}}$"
      ],
      "text/plain": [
       "s**3*(s**3 + s**2 + s + 1/2)/(s**3 + 2*s**2 + 2*s + 1)**2"
      ]
     },
     "metadata": {},
     "output_type": "display_data"
    }
   ],
   "source": [
    "from sympy import  *\n",
    "import numpy as np\n",
    "from sympy.abc import s\n",
    "from IPython.display import display, Math\n",
    "import math as m\n",
    "\n",
    "\n",
    "x1 = Rational('2/7')#esta mal porque es una resistencia negativa\n",
    "\n",
    "z1 = (2*s**3 +2*s**2 + 2*s +1)/(2*s**2 + 2*s +1)\n",
    "\n",
    "T1 = ((s**3)*(2*s**3 +2*s**2 + 2*s +1))/((s**3 +2*s**2 + 2*s+1)*(2*s**3 +4*s**2 + 4*s+2))\n",
    "\n",
    "ZR1 = z1/(z1+1)\n",
    "\n",
    "S12 = (s**3)*ZR1/(s**3 +2*s**2 + 2*s+1)\n",
    "\n",
    "Z2 = simplify(S12)\n",
    "\n",
    "display('Z2',Z2)"
   ]
  },
  {
   "cell_type": "code",
   "execution_count": null,
   "id": "794de7ea",
   "metadata": {},
   "outputs": [],
   "source": []
  }
 ],
 "metadata": {
  "kernelspec": {
   "display_name": "Python 3 (ipykernel)",
   "language": "python",
   "name": "python3"
  },
  "language_info": {
   "codemirror_mode": {
    "name": "ipython",
    "version": 3
   },
   "file_extension": ".py",
   "mimetype": "text/x-python",
   "name": "python",
   "nbconvert_exporter": "python",
   "pygments_lexer": "ipython3",
   "version": "3.9.12"
  }
 },
 "nbformat": 4,
 "nbformat_minor": 5
}
