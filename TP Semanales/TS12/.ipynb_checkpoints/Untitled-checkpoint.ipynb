{
 "cells": [
  {
   "cell_type": "code",
   "execution_count": 14,
   "id": "f06b771e",
   "metadata": {},
   "outputs": [
    {
     "data": {
      "text/plain": [
       "'Z3'"
      ]
     },
     "metadata": {},
     "output_type": "display_data"
    },
    {
     "data": {
      "text/latex": [
       "$\\displaystyle \\frac{s^{4} + 4 s^{2} + 3}{s \\left(3 s^{2} + 7\\right)}$"
      ],
      "text/plain": [
       "(s**4 + 4*s**2 + 3)/(s*(3*s**2 + 7))"
      ]
     },
     "metadata": {},
     "output_type": "display_data"
    }
   ],
   "source": [
    "from sympy import  *\n",
    "import numpy as np\n",
    "from sympy.abc import s\n",
    "from IPython.display import display, Math\n",
    "import math as m\n",
    "\n",
    "\n",
    "x1 = Rational('7/3')#esta mal porque es una resistencia negativa\n",
    "x2 = Rational('1/3')#esta mal porque es una resistencia negativa\n",
    "x3 = Rational('3/2')#esta mal porque es una resistencia negativa\n",
    "\n",
    "y11 = 3*s*(s**2+x1)/((s**2 +2)*(s**2 + 5))\n",
    "\n",
    "z = 1/y11\n",
    "\n",
    "z2 = simplify(z - 1/s)\n",
    "\n",
    "zc1= s*x2/(s**2 +2)\n",
    "\n",
    "#z2 = simplify(z1 - zc1)\n",
    "\n",
    "zc2= x3/s\n",
    "\n",
    "z3 = simplify(1/z2 - zc2)\n",
    "\n",
    "display('Z3',z2)"
   ]
  },
  {
   "cell_type": "code",
   "execution_count": null,
   "id": "794de7ea",
   "metadata": {},
   "outputs": [],
   "source": []
  }
 ],
 "metadata": {
  "kernelspec": {
   "display_name": "Python 3 (ipykernel)",
   "language": "python",
   "name": "python3"
  },
  "language_info": {
   "codemirror_mode": {
    "name": "ipython",
    "version": 3
   },
   "file_extension": ".py",
   "mimetype": "text/x-python",
   "name": "python",
   "nbconvert_exporter": "python",
   "pygments_lexer": "ipython3",
   "version": "3.9.12"
  }
 },
 "nbformat": 4,
 "nbformat_minor": 5
}
