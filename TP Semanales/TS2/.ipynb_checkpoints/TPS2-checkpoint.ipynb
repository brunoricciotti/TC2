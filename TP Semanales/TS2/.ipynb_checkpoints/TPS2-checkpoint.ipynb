{
 "cells": [
  {
   "cell_type": "markdown",
   "id": "3f231592",
   "metadata": {},
   "source": [
    "# TPS2"
   ]
  },
  {
   "cell_type": "markdown",
   "id": "46939043",
   "metadata": {},
   "source": [
    "1) Hallar la transferencia $T = \\frac{V_o}{V_i}$ en función de $\\omega_0$ y $Q$.\n",
    "\n",
    "2)  Obtener el valor de los componentes del circuito de forma tal que $\\omega_0 = 1$ y $Q = 3$\n",
    "\n",
    "3)  Ajustar el valor de R1 de forma tal que $\\lvert T(0) \\rvert = 20 \\, \\mathrm{dB}$."
   ]
  },
  {
   "cell_type": "code",
   "execution_count": 7,
   "id": "6056eed9",
   "metadata": {
    "scrolled": true
   },
   "outputs": [
    {
     "name": "stdout",
     "output_type": "stream",
     "text": [
      "\n",
      "################\n",
      "# Ejercicio 9 #\n",
      "################\n"
     ]
    },
    {
     "data": {
      "text/latex": [
       "$\\displaystyle \\frac{\\left(-1\\right) \\frac{1}{C^{2}} \\frac{1}{R_{1}} \\frac{1}{R_{3}}}{s^{2} + \\frac{s}{C R_{2}} + \\frac{1}{C^{2} R_{3}^{2}}}$"
      ],
      "text/plain": [
       "(-1/(C**2*R1*R3))/(s**2 + s/(C*R2) + 1/(C**2*R3**2))"
      ]
     },
     "metadata": {},
     "output_type": "display_data"
    },
    {
     "data": {
      "text/latex": [
       "$\\displaystyle  \\omega_o^{2} = \\frac{1}{C^{2} R_{3}^{2}}$"
      ],
      "text/plain": [
       "<IPython.core.display.Math object>"
      ]
     },
     "metadata": {},
     "output_type": "display_data"
    }
   ],
   "source": [
    "import sympy as sp\n",
    "from sympy.abc import s\n",
    "from IPython.display import display, Math\n",
    "import matplotlib.pyplot as plt\n",
    "import numpy as np\n",
    "import scipy.signal as sig\n",
    "from splane import analyze_sys, pretty_print_bicuad_omegayq\n",
    "\n",
    "\n",
    "Vi, Vo, Va, Vb = sp.symbols(\"Vi, Vo, Va, Vb\")\n",
    "R1, Z, R2, R3, R4, C = sp.symbols(\"R1, Z, R2, R3, R4, C\")\n",
    "\n",
    "aa = sp.solve([  #despeja Vi y Vo en base a las ecuaciones (Me quedan en funcion de Vx)\n",
    "                Vi/R1 +Va*((1/R2) + (1/Z)) + Vo/R3, \n",
    "                Va/R3 + Vb/Z,\n",
    "                Vb/R4 + Vo/R4\n",
    "                ], \n",
    "                [Vi, Vo, Va, Vb])\n",
    "\n",
    "transf_func = aa[Vo]/aa[Vi] #Aca defino mi transf_funct como el cociente entre Vo y Vi (Vo/Vi). Tambien es simbolica\n",
    "\n",
    "tf = transf_func.subs(Z, 1/(s*C))\n",
    "\n",
    "num, den = sp.fraction(sp.simplify(sp.expand(tf)))  #simplificamos y separamos numerador y denominador\n",
    "\n",
    "\n",
    "num = sp.Poly(num,s)\n",
    "den = sp.Poly(den,s)\n",
    "\n",
    "\n",
    "k = sp.simplify(num.LC() / den.LC()) #obtenemos la constante, y la simplificamos\n",
    "\n",
    "num = num.monic() #hacemos que el numerador y denominador sean monicos\n",
    "den = den.monic()\n",
    "\n",
    "den_coeffs = den.all_coeffs()\n",
    "wo = den_coeffs[-1]\n",
    "\n",
    "tf_final = sp.Mul(k,num/den, evaluate=False)\n",
    "\n",
    "print('')\n",
    "print('################')\n",
    "print('# Ejercicio 9 #')\n",
    "print('################')\n",
    "display(tf_final)\n",
    "display(Math( r' \\omega_o^{2} = ' + sp.latex(wo) ))\n",
    "\n"
   ]
  },
  {
   "cell_type": "markdown",
   "id": "e30550ff",
   "metadata": {},
   "source": [
    "-\n",
    "-\n",
    "-\n",
    "Si en lugar de tomar la salida en Vo la tomamos en Va, la expresion de la transferencia nos quedara como la de un pasabajos:"
   ]
  },
  {
   "cell_type": "code",
   "execution_count": 9,
   "id": "7a47c9c5",
   "metadata": {},
   "outputs": [
    {
     "name": "stdout",
     "output_type": "stream",
     "text": [
      "\n",
      "################\n",
      "# Ejercicio 9 #\n",
      "################\n"
     ]
    },
    {
     "data": {
      "text/latex": [
       "$\\displaystyle - \\frac{1}{C R_{1}} \\frac{s}{s^{2} + \\frac{s}{C R_{2}} + \\frac{1}{C^{2} R_{3}^{2}}}$"
      ],
      "text/plain": [
       "(-1/(C*R1))*(s/(s**2 + s/(C*R2) + 1/(C**2*R3**2)))"
      ]
     },
     "metadata": {},
     "output_type": "display_data"
    },
    {
     "data": {
      "text/latex": [
       "$\\displaystyle  \\omega_o^{2} = \\frac{1}{C^{2} R_{3}^{2}}$"
      ],
      "text/plain": [
       "<IPython.core.display.Math object>"
      ]
     },
     "metadata": {},
     "output_type": "display_data"
    }
   ],
   "source": [
    "transf_func = aa[Va]/aa[Vi] #Aca defino mi transf_funct como el cociente entre Va y Vi (Va/Vi). Tambien es simbolica\n",
    "\n",
    "tf = transf_func.subs(Z, 1/(s*C))\n",
    "\n",
    "num, den = sp.fraction(sp.simplify(sp.expand(tf)))  #simplificamos y separamos numerador y denominador\n",
    "\n",
    "\n",
    "num = sp.Poly(num,s)\n",
    "den = sp.Poly(den,s)\n",
    "\n",
    "\n",
    "k = sp.simplify(num.LC() / den.LC()) #obtenemos la constante, y la simplificamos\n",
    "\n",
    "num = num.monic() #hacemos que el numerador y denominador sean monicos\n",
    "den = den.monic()\n",
    "\n",
    "den_coeffs = den.all_coeffs()\n",
    "wo = den_coeffs[-1]\n",
    "\n",
    "tf_final = sp.Mul(k,num/den, evaluate=False)\n",
    "\n",
    "print('')\n",
    "print('################')\n",
    "print('# Ejercicio 9 #')\n",
    "print('################')\n",
    "display(tf_final)\n",
    "display(Math( r' \\omega_o^{2} = ' + sp.latex(wo) ))\n",
    "\n"
   ]
  },
  {
   "cell_type": "markdown",
   "id": "9b0d47d5",
   "metadata": {},
   "source": [
    "Simulacion en LTSpice:\n",
    "\n",
    "Pasabajos:\n",
    "<img src=\"../img/pasa_bajos.png\">\n",
    "\n",
    "Butterworth:\n",
    "<img src=\"../img/Butterworth.png\">\n",
    "\n",
    "Pasabandas:\n",
    "<img src=\"../img/pasa_banda.png\">\n"
   ]
  },
  {
   "cell_type": "code",
   "execution_count": null,
   "id": "9f208ca4",
   "metadata": {},
   "outputs": [],
   "source": []
  }
 ],
 "metadata": {
  "kernelspec": {
   "display_name": "Python 3 (ipykernel)",
   "language": "python",
   "name": "python3"
  },
  "language_info": {
   "codemirror_mode": {
    "name": "ipython",
    "version": 3
   },
   "file_extension": ".py",
   "mimetype": "text/x-python",
   "name": "python",
   "nbconvert_exporter": "python",
   "pygments_lexer": "ipython3",
   "version": "3.9.7"
  }
 },
 "nbformat": 4,
 "nbformat_minor": 5
}
