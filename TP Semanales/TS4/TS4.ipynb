{
 "cells": [
  {
   "cell_type": "markdown",
   "id": "0c12d659",
   "metadata": {},
   "source": [
    "# TS4\n",
    "\n",
    "<img src=\"img/ejercicio1.png\">\n",
    "<img src=\"img/ejercicio2.png\">"
   ]
  },
  {
   "cell_type": "markdown",
   "id": "bd37329b",
   "metadata": {},
   "source": [
    "Se requiere diseñar un filtro que cumpla con la siguiente plantilla:\n",
    "\n",
    "<img src=\"img/plantilla.png\">\n"
   ]
  },
  {
   "cell_type": "markdown",
   "id": "2a308a32",
   "metadata": {},
   "source": [
    "Lo primero que debemos hacer es normalizar la plantilla del pasabanda:"
   ]
  },
  {
   "cell_type": "code",
   "execution_count": 23,
   "id": "9f03cbb2",
   "metadata": {},
   "outputs": [
    {
     "name": "stdout",
     "output_type": "stream",
     "text": [
      "fp1 = 19909.72636646596\n",
      "fp2 = 24309.72636646596\n"
     ]
    }
   ],
   "source": [
    "from sympy import  *\n",
    "import numpy as np\n",
    "from sympy.abc import s\n",
    "from IPython.display import display, Math\n",
    "from splane import pzmap, GroupDelay, bodePlot\n",
    "from scipy.signal import TransferFunction\n",
    "import matplotlib.pyplot as plt\n",
    "import math as m\n",
    "\n",
    "f_p1,f_p2,fo = symbols(\"fp1,fp2,fo\")\n",
    "\n",
    "ec1 = Eq(f_p1*f_p2,22000**2)\n",
    "ec2 = Eq(f_p2-f_p1,4400)\n",
    "\n",
    "respuesta = solve([ec1,ec2],f_p2,f_p1)#Salen varios resultados\n",
    "\n",
    "f_p1 = float(respuesta[1][1])\n",
    "f_p2 = float(respuesta[1][0])\n",
    "\n",
    "print(\"fp1 =\",f_p1)#tomamos los positivos\n",
    "print(\"fp2 =\",f_p2)"
   ]
  },
  {
   "cell_type": "code",
   "execution_count": 24,
   "id": "2d9dd58a",
   "metadata": {},
   "outputs": [
    {
     "name": "stdout",
     "output_type": "stream",
     "text": [
      "f0=22000.0\n",
      "w0_n=1\n",
      "w_p1_n=0.904987562112089, w_p2_n=1.10498756211209\n",
      "w_s1_n=0.772727272727273, w_s2_n=1.63636363636364\n"
     ]
    }
   ],
   "source": [
    "import math as m\n",
    "\n",
    "f_s1 = 17e3\n",
    "f_s2 = 36e3\n",
    "\n",
    "w_s1 = f_s1*2*pi\n",
    "w_s2 = f_s2*2*pi\n",
    "\n",
    "f0 = m.sqrt(f_p1 * f_p2)\n",
    "\n",
    "print(f'f0={f0}')\n",
    "\n",
    "w0 = 2*pi*f0\n",
    "w_p1 = 2*pi*f_p1\n",
    "w_p2 = 2*pi*f_p2\n",
    "\n",
    "w0_n = 1\n",
    "w_p1_n = w_p1 / w0\n",
    "w_p2_n = w_p2 / w0\n",
    "w_s1_n = w_s1 / w0\n",
    "w_s2_n = w_s2 / w0\n",
    "\n",
    "print(f'w0_n={w0_n}')\n",
    "print(f'w_p1_n={w_p1_n}, w_p2_n={w_p2_n}')\n",
    "print(f'w_s1_n={w_s1_n}, w_s2_n={w_s2_n}')"
   ]
  },
  {
   "cell_type": "markdown",
   "id": "1095391f",
   "metadata": {},
   "source": [
    "Ahora debemos hacer la transformacion:\n",
    "\n",
    "$K(s)= Q * \\frac{s^2 + 1}{s} = K(s)= 5 \\frac{s^2 + 1}{s}$"
   ]
  },
  {
   "cell_type": "code",
   "execution_count": 25,
   "id": "0119cf11",
   "metadata": {},
   "outputs": [
    {
     "name": "stdout",
     "output_type": "stream",
     "text": [
      "Omega_p1=-1.00000000000000, Omega_p2=1.00000000000000\n",
      "Omega_s1=-2.60695187165775, Omega_s2=5.12626262626262\n"
     ]
    }
   ],
   "source": [
    "Q = 5\n",
    "\n",
    "Omega_p1 = Q * (w_p1_n ** 2 - 1) / w_p1_n\n",
    "Omega_p2 = Q * (w_p2_n ** 2 - 1) / w_p2_n\n",
    "Omega_s1 = Q * (w_s1_n ** 2 - 1) / w_s1_n\n",
    "Omega_s2 = Q * (w_s2_n ** 2 - 1) / w_s2_n\n",
    "\n",
    "print(f'Omega_p1={Omega_p1}, Omega_p2={Omega_p2}')\n",
    "print(f'Omega_s1={Omega_s1}, Omega_s2={Omega_s2}')"
   ]
  },
  {
   "cell_type": "markdown",
   "id": "ef192de6",
   "metadata": {},
   "source": [
    "Como vemos, $\\Omega_{p1}=-1$ y $\\Omega_{p2}=1$ como se buscaba. En cuanto a las  $\\Omega_{s}$, tenemos que elegir una. Para ello elegimos la que tiene el modulo mas chico, ya que esta seria la que impone el requisito mas exigente en nuestro pasabajos.\n",
    "\n",
    "Entonces elegimos:\n",
    "\n",
    "$\\Omega_{p}=1$\n",
    "\n",
    "$\\Omega_{s}=2.606951$"
   ]
  },
  {
   "cell_type": "code",
   "execution_count": 28,
   "id": "587a315e",
   "metadata": {},
   "outputs": [],
   "source": [
    "w_s_lp = abs(Omega_s1)"
   ]
  },
  {
   "cell_type": "markdown",
   "id": "c1444000",
   "metadata": {},
   "source": [
    "Ahora debemos empezar a diseñar nuestro filtro Chebyshev. \n",
    "\n",
    "Es importante ver que tenemos dos $\\alpha_{min}$ en nuestra plantilla de pasabanda. La que utilizaremos es el $\\alpha_{min}$ mas alto, de modo que se cumplan ambos requisitos. Entonces $\\alpha_{min} = 24$ dB"
   ]
  },
  {
   "cell_type": "code",
   "execution_count": 29,
   "id": "13cdc43b",
   "metadata": {},
   "outputs": [
    {
     "name": "stdout",
     "output_type": "stream",
     "text": [
      "epsilon: 0.34931140018894796, N: 3\n"
     ]
    }
   ],
   "source": [
    "alpha_max = 0.5    # dB\n",
    "alpha_min = 24   # dB\n",
    "\n",
    "epsilon = m.sqrt(m.pow(10, 0.1 * alpha_max) - 1)\n",
    "N = m.acosh((m.pow(10, alpha_min * 0.1) - 1) / (m.pow(10, alpha_max * 0.1) - 1)) / (2 * m.acosh(w_s_lp))\n",
    "N = m.ceil(N)\n",
    "\n",
    "print(f'epsilon: {epsilon}, N: {N}')"
   ]
  },
  {
   "cell_type": "markdown",
   "id": "de15f3a1",
   "metadata": {},
   "source": [
    "Usamos la siguiente relacion: $c_n(\\omega) = 2 \\omega c_{n-1}(\\omega) - c_{n-2}(\\omega)$\n",
    "\n",
    "$c_0(\\omega) = 1$ , $c_1(\\omega) = \\omega$\n",
    "\n",
    "$c_2(\\omega) = 2\\omega^2 -1$\n",
    "\n",
    "$c_3(\\omega) = 4\\omega^3 -3\\omega$"
   ]
  },
  {
   "cell_type": "markdown",
   "id": "0367c88e",
   "metadata": {},
   "source": [
    "$\\left | T(jw) \\right |^{2} = \\frac{1}{1+\\epsilon^2 c_3(w)^2} $\n",
    "\n",
    "$\\left | T(jw) \\right |^{2}  = \\frac{1}{1+0.349^2 (4\\omega^3 -3\\omega)^2} $"
   ]
  },
  {
   "cell_type": "code",
   "execution_count": 49,
   "id": "472cc99e",
   "metadata": {},
   "outputs": [
    {
     "data": {
      "text/latex": [
       "$\\displaystyle \\frac{1}{0.121801 \\left(4 w^{3} - 3 w\\right)^{2} + 1}$"
      ],
      "text/plain": [
       "1/(0.121801*(4*w**3 - 3*w)**2 + 1)"
      ]
     },
     "metadata": {},
     "output_type": "display_data"
    },
    {
     "data": {
      "text/latex": [
       "$\\displaystyle \\frac{1}{1.948816 w^{6} - 2.923224 w^{4} + 1.096209 w^{2} + 1.0}$"
      ],
      "text/plain": [
       "1/(1.948816*w**6 - 2.923224*w**4 + 1.096209*w**2 + 1.0)"
      ]
     },
     "metadata": {},
     "output_type": "display_data"
    }
   ],
   "source": [
    "w,T=symbols(\"w,T\")\n",
    "T = 1/(1+((0.349)**2)*(4*w**3 - 3*w)**2)\n",
    "\n",
    "\n",
    "num, den = fraction(simplify(expand(T)))  #simplificamos y separamos numerador y denominador\n",
    "\n",
    "display(T)\n",
    "\n",
    "num = Poly(num,s)\n",
    "den = Poly(den,s)\n",
    "\n",
    "T = num/den\n",
    "display(T)"
   ]
  },
  {
   "cell_type": "markdown",
   "id": "1686bbb8",
   "metadata": {},
   "source": [
    "Hacemos $\\left | T(s) \\right |^{2}$ con $\\omega = \\frac{s}{j}$\n",
    "\n",
    "$\\left | T(s) \\right |^{2} = \\frac{1}{-1.948816 s^6−2.923224 s^4-1.096209 s^2+1.0}$"
   ]
  },
  {
   "cell_type": "code",
   "execution_count": 65,
   "id": "376c3348",
   "metadata": {},
   "outputs": [
    {
     "data": {
      "text/plain": [
       "array([-0.31339386+1.0220798j, -0.31339386-1.0220798j,\n",
       "        0.31339386+1.0220798j,  0.31339386-1.0220798j,\n",
       "       -0.62678771+0.j       ,  0.62678771+0.j       ])"
      ]
     },
     "metadata": {},
     "output_type": "display_data"
    },
    {
     "data": {
      "text/plain": [
       "(1, <AxesSubplot:xlabel='$\\\\sigma$', ylabel='j$\\\\omega$'>)"
      ]
     },
     "execution_count": 65,
     "metadata": {},
     "output_type": "execute_result"
    },
    {
     "data": {
      "image/png": "[encoded data removed]",
      "text/plain": [
       "<Figure size 432x288 with 1 Axes>"
      ]
     },
     "metadata": {
      "needs_background": "light"
     },
     "output_type": "display_data"
    }
   ],
   "source": [
    "coeffs_den = [-1.948816,0,-2.923224,0,-1.096209,0,1]\n",
    "\n",
    "root = np.roots(coeffs_den)\n",
    "\n",
    "display(root)\n",
    "\n",
    "my_tf = TransferFunction( [1], coeffs_den )\n",
    "\n",
    "pzmap(my_tf, 4) #S plane pole/zero plot"
   ]
  },
  {
   "cell_type": "code",
   "execution_count": 67,
   "id": "7ad343d5",
   "metadata": {},
   "outputs": [
    {
     "data": {
      "text/plain": [
       "array([-0.3144+1.02174001j, -0.3144-1.02174001j,  0.3144+1.02174001j,\n",
       "        0.3144-1.02174001j, -0.6267+0.j        ,  0.6267+0.j        ])"
      ]
     },
     "metadata": {},
     "output_type": "display_data"
    },
    {
     "data": {
      "text/plain": [
       "(1, <AxesSubplot:xlabel='$\\\\sigma$', ylabel='j$\\\\omega$'>)"
      ]
     },
     "execution_count": 67,
     "metadata": {},
     "output_type": "execute_result"
    },
    {
     "data": {
      "image/png": "[encoded data removed]",
      "text/plain": [
       "<Figure size 432x288 with 1 Axes>"
      ]
     },
     "metadata": {
      "needs_background": "light"
     },
     "output_type": "display_data"
    }
   ],
   "source": [
    "coeffs_den = [-1,0,-1.49745767,0,-0.563606179851482,0,0.512932069476418]\n",
    "\n",
    "root = np.roots(coeffs_den)\n",
    "\n",
    "display(root)\n",
    "\n",
    "my_tf = TransferFunction( [0.512932069476418], coeffs_den )\n",
    "\n",
    "pzmap(my_tf, 4) #S plane pole/zero plot"
   ]
  },
  {
   "cell_type": "markdown",
   "id": "6be06420",
   "metadata": {},
   "source": [
    "Recordamos que:\n",
    "\n",
    "$\\left | T(s) \\right |^{2} =  T(s)*  T(-s)$\n",
    "\n",
    "Lo que se puede hacer para hallar $T(s)$ es analizar los polos. Utilizo los que tienen parte real negativa, y calculo su $Q$ y $\\omega_o$"
   ]
  },
  {
   "cell_type": "code",
   "execution_count": 58,
   "id": "0220f39d",
   "metadata": {},
   "outputs": [
    {
     "name": "stdout",
     "output_type": "stream",
     "text": [
      "wo = 1.0690476291659607\n",
      "Q = 1.70559762433925\n"
     ]
    }
   ],
   "source": [
    "wo_f = abs(root[0])\n",
    "print(\"wo =\",wo_f)\n",
    "\n",
    "q = 1/(2*cos(atan(root[0].imag/root[0].real)))\n",
    "print(\"Q =\",q)"
   ]
  },
  {
   "cell_type": "markdown",
   "id": "c9563a92",
   "metadata": {},
   "source": [
    "$\\left | T(s) \\right | = \\frac{1.06904^2}{(s + 0.6267)(s^2 + s\\frac{1.06904}{1.7} + 1.06904^2)}$"
   ]
  },
  {
   "cell_type": "code",
   "execution_count": 68,
   "id": "907c68ba",
   "metadata": {},
   "outputs": [
    {
     "data": {
      "text/latex": [
       "$\\displaystyle \\frac{0.7161923}{\\left(s + 0.6267\\right) \\left(s^{2} + 0.6288 s + 1.1428\\right)}$"
      ],
      "text/plain": [
       "0.7161923/((s + 0.6267)*(s**2 + 0.6288*s + 1.1428))"
      ]
     },
     "metadata": {},
     "output_type": "display_data"
    }
   ],
   "source": [
    "s=symbols(\"s\")\n",
    "T = 0.7161923/((s+ 0.6267)*(s**2 +s*0.6288 + 1.1428))\n",
    "\n",
    "num, den = fraction(simplify(expand(T)))  #simplificamos y separamos numerador y denominador\n",
    "\n",
    "display(T)\n",
    "\n",
    "num = Poly(num,s)\n",
    "den = Poly(den,s)\n",
    "\n",
    "T = num/den"
   ]
  },
  {
   "cell_type": "markdown",
   "id": "3847d7f0",
   "metadata": {},
   "source": [
    "Ya tenemos la transferencia de nuestro prototipo pasabajos. Ahora hay que transformarlo en un pasabanda. Usamos la transformación para obtener la transferencia del pasabanda:\n",
    "\n",
    "$T(s) = T_{LP}(Q * \\frac{s^2 + 1}{s})$"
   ]
  },
  {
   "cell_type": "code",
   "execution_count": 131,
   "id": "54b42de8",
   "metadata": {},
   "outputs": [
    {
     "data": {
      "text/latex": [
       "$\\displaystyle \\frac{0.7161923}{1.0 s^{3} + 1.2555 s^{2} + 1.53686896 s + 0.71619276}$"
      ],
      "text/plain": [
       "0.7161923/(1.0*s**3 + 1.2555*s**2 + 1.53686896*s + 0.71619276)"
      ]
     },
     "metadata": {},
     "output_type": "display_data"
    },
    {
     "data": {
      "text/latex": [
       "$\\displaystyle \\frac{0.7161923 s^{3}}{125.0 s^{6} + 31.3875 s^{5} + 382.6843448 s^{4} + 63.49119276 s^{3} + 382.6843448 s^{2} + 31.3875 s + 125.0}$"
      ],
      "text/plain": [
       "0.7161923*s**3/(125.0*s**6 + 31.3875*s**5 + 382.6843448*s**4 + 63.49119276*s**3 + 382.6843448*s**2 + 31.3875*s + 125.0)"
      ]
     },
     "metadata": {},
     "output_type": "display_data"
    }
   ],
   "source": [
    "T = (0.7161923/((s+ 0.6267)*(s**2 +s*0.6288 + 1.1428)))\n",
    "num, den = fraction(simplify(expand(T)))  #simplificamos y separamos numerador y denominador\n",
    "\n",
    "num = Poly(num,s)\n",
    "den = Poly(den,s)\n",
    "\n",
    "T = num/den\n",
    "\n",
    "T = T.subs(s, 5*((s**2 +1)/s))\n",
    "T = expand(T)\n",
    "\n",
    "num, den = fraction(simplify(expand(T)))  #simplificamos y separamos numerador y denominador\n",
    "\n",
    "num = Poly(num,s)\n",
    "den = Poly(den,s)\n",
    "\n",
    "T = num/den\n",
    "\n",
    "display(T)"
   ]
  },
  {
   "cell_type": "code",
   "execution_count": 105,
   "id": "141e9612",
   "metadata": {},
   "outputs": [
    {
     "data": {
      "text/plain": [
       "array([-0.0346364 +1.10689119j, -0.0346364 -1.10689119j,\n",
       "       -0.06267049+0.99803814j, -0.06267049-0.99803814j,\n",
       "       -0.02824311+0.90254391j, -0.02824311-0.90254391j])"
      ]
     },
     "metadata": {},
     "output_type": "display_data"
    },
    {
     "data": {
      "text/plain": [
       "(1, <AxesSubplot:xlabel='$\\\\sigma$', ylabel='j$\\\\omega$'>)"
      ]
     },
     "execution_count": 105,
     "metadata": {},
     "output_type": "execute_result"
    },
    {
     "data": {
      "image/png": "[encoded data removed]",
      "text/plain": [
       "<Figure size 432x288 with 1 Axes>"
      ]
     },
     "metadata": {
      "needs_background": "light"
     },
     "output_type": "display_data"
    }
   ],
   "source": [
    "coeffs_den = [125,31.3875,382.6843,63.4911927,382.684344,31.3875,125]\n",
    "\n",
    "root = np.roots(coeffs_den)\n",
    "\n",
    "display(root)\n",
    "\n",
    "my_tf = TransferFunction( [0.7161923,0,0,0], coeffs_den )\n",
    "\n",
    "pzmap(my_tf, 6) #S plane pole/zero plot"
   ]
  },
  {
   "cell_type": "code",
   "execution_count": 132,
   "id": "b38b45fe",
   "metadata": {},
   "outputs": [
    {
     "data": {
      "text/latex": [
       "$\\displaystyle \\frac{0.0057295384 s^{3}}{1.0 s^{6} + 0.2511 s^{5} + 3.0614747584 s^{4} + 0.50792954208 s^{3} + 3.0614747584 s^{2} + 0.2511 s + 1.0}$"
      ],
      "text/plain": [
       "0.0057295384*s**3/(1.0*s**6 + 0.2511*s**5 + 3.0614747584*s**4 + 0.50792954208*s**3 + 3.0614747584*s**2 + 0.2511*s + 1.0)"
      ]
     },
     "metadata": {},
     "output_type": "display_data"
    }
   ],
   "source": [
    "den = den.monic() #hacemos que el numerador y denominador sean monicos\n",
    "num = num/125\n",
    "T = num/den\n",
    "\n",
    "display(T)\n"
   ]
  },
  {
   "cell_type": "markdown",
   "id": "2ed3e225",
   "metadata": {},
   "source": [
    "Con esto ya podemos ver si cumplimos las condiciones de la plantilla.\n",
    "\n",
    "Graficando en matlab vemos que si se cumplen:\n",
    "\n",
    "<img src=\"img/transferencia.png\">"
   ]
  },
  {
   "cell_type": "markdown",
   "id": "5960a02c",
   "metadata": {},
   "source": [
    "Para pasar al circuito debemos representar esta transferencia en tres transferencias de orden 2:\n",
    "\n",
    "$T(s) =  T_1(s)*  T_2(s) * T_3(s)$\n",
    "\n",
    "Para encontrar estas expresiones usamos los polos:"
   ]
  },
  {
   "cell_type": "code",
   "execution_count": 130,
   "id": "3e16e52b",
   "metadata": {},
   "outputs": [
    {
     "name": "stdout",
     "output_type": "stream",
     "text": [
      "wo1 = 1.1074329693319578\n",
      "wo2 = 1.0000038546440502\n",
      "wo3 = 0.9029857093509162\n",
      "Q1 = 15.9865477198146\n",
      "Q2 = 7.97826781377223\n",
      "Q3 = 15.9859458099980\n"
     ]
    }
   ],
   "source": [
    "wo_1 = abs(root[0])\n",
    "print(\"wo1 =\",wo_1)\n",
    "wo_2 = abs(root[2])\n",
    "print(\"wo2 =\",wo_2)\n",
    "wo_3 = abs(root[4])\n",
    "print(\"wo3 =\",wo_3)\n",
    "\n",
    "q1 = 1/(2*cos(atan(root[0].imag/root[0].real)))\n",
    "print(\"Q1 =\",q1)\n",
    "q2 = 1/(2*cos(atan(root[2].imag/root[2].real)))\n",
    "print(\"Q2 =\",q2)\n",
    "q3 = 1/(2*cos(atan(root[4].imag/root[4].real)))\n",
    "print(\"Q3 =\",q3)"
   ]
  },
  {
   "cell_type": "markdown",
   "id": "3560fbee",
   "metadata": {},
   "source": [
    "Un pasabanda tiene la siguiente transferencia:\n",
    "\n",
    "$T(s)=\\frac{s\\frac{R}{L} }{s^2 + \\frac{R}{L}s + \\frac{1}{LC}}$"
   ]
  },
  {
   "cell_type": "markdown",
   "id": "0b0eaacd",
   "metadata": {},
   "source": [
    "$T_1(s)=\\frac{s\\frac{1.107}{15.986}}{s^2 + \\frac{1.107}{15.986}s + 1.107^2}$\n",
    "\n",
    "$T_2(s)=\\frac{s\\frac{1}{7.9782}}{s^2 + \\frac{1}{7.9782}s + 1}$\n",
    "\n",
    "$T_3(s)=\\frac{s\\frac{0.9029}{15.986}}{s^2 + \\frac{0.9029}{15.986}s + 0.9029^2}$"
   ]
  },
  {
   "cell_type": "markdown",
   "id": "d2239527",
   "metadata": {},
   "source": [
    "No logro llegar al circuito ya que los R/L me fuerza el numerador y no me queda igual que en el de la transferencia "
   ]
  },
  {
   "cell_type": "code",
   "execution_count": null,
   "id": "d393cc27",
   "metadata": {},
   "outputs": [],
   "source": []
  }
 ],
 "metadata": {
  "kernelspec": {
   "display_name": "Python 3 (ipykernel)",
   "language": "python",
   "name": "python3"
  },
  "language_info": {
   "codemirror_mode": {
    "name": "ipython",
    "version": 3
   },
   "file_extension": ".py",
   "mimetype": "text/x-python",
   "name": "python",
   "nbconvert_exporter": "python",
   "pygments_lexer": "ipython3",
   "version": "3.9.7"
  }
 },
 "nbformat": 4,
 "nbformat_minor": 5
}
