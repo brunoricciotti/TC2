{
 "cells": [
  {
   "cell_type": "markdown",
   "id": "b1b0c865",
   "metadata": {},
   "source": [
    "# TS3"
   ]
  },
  {
   "cell_type": "markdown",
   "id": "69a9c044",
   "metadata": {},
   "source": [
    "<img src=\"../img/TS3.png\">"
   ]
  },
  {
   "cell_type": "markdown",
   "id": "bd9327bc",
   "metadata": {},
   "source": [
    "<img src=\"../img/TS3_PAPEL1.png\">"
   ]
  },
  {
   "cell_type": "markdown",
   "id": "5a62cbb2",
   "metadata": {},
   "source": [
    "Buscamos los polos y ceros:"
   ]
  },
  {
   "cell_type": "code",
   "execution_count": 2,
   "id": "e629ed4e",
   "metadata": {},
   "outputs": [
    {
     "data": {
      "text/plain": [
       "array([-1.09387991+0.45309989j, -1.09387991-0.45309989j,\n",
       "       -0.45309989+1.09387991j, -0.45309989-1.09387991j,\n",
       "        0.45309989+1.09387991j,  0.45309989-1.09387991j,\n",
       "        1.09387991+0.45309989j,  1.09387991-0.45309989j])"
      ]
     },
     "metadata": {},
     "output_type": "display_data"
    }
   ],
   "source": [
    "from sympy import  *\n",
    "import numpy as np\n",
    "from sympy.abc import s\n",
    "from IPython.display import display, Math\n",
    "from splane import pzmap, GroupDelay, bodePlot\n",
    "from scipy.signal import TransferFunction\n",
    "import matplotlib.pyplot as plt\n",
    "\n",
    "coeffs_den=[0.25892,0,0,0,0,0,0,0,1]\n",
    "\n",
    "root = np.roots(coeffs_den)\n",
    "\n",
    "display(root)"
   ]
  },
  {
   "cell_type": "markdown",
   "id": "73b86052",
   "metadata": {},
   "source": [
    "Ahora debemos hallar los coeficientes de $T(jw)$"
   ]
  },
  {
   "cell_type": "markdown",
   "id": "17d31c0b",
   "metadata": {},
   "source": [
    "<img src=\"../img/TS3_PAPEL2.png\">"
   ]
  },
  {
   "cell_type": "code",
   "execution_count": 5,
   "id": "b3e78c1c",
   "metadata": {},
   "outputs": [],
   "source": [
    "a, b, c, d, e = symbols(\"a,b,c,d,e\")\n",
    "\n",
    "ec1 = Eq(a, 0.51)\n",
    "ec2 = Eq(e,1)\n",
    "ec3 = Eq(2*a*c - b*b, 0)\n",
    "ec4 = Eq(-2*d*b + c*c +2*a*e, 0)\n",
    "ec5 = Eq(2*c*e -d*d, 0)\n",
    "\n",
    "respuesta = solve([ec1,ec2,ec3,ec4,ec5],a,b,c,d,e)#Salen varios resultados\n",
    "\n",
    "#display(respuesta)"
   ]
  },
  {
   "cell_type": "markdown",
   "id": "3bbeb3e3",
   "metadata": {},
   "source": [
    "Uso el que me da raices complejas conjugadas y con $\\sigma < 0$"
   ]
  },
  {
   "cell_type": "code",
   "execution_count": 7,
   "id": "8d2f400e",
   "metadata": {},
   "outputs": [],
   "source": [
    "for i in range(4):\n",
    "    if all((np.roots(respuesta[i]).real) < 0) :\n",
    "        coeff = list(respuesta[i])#Guardo la respuesta que utilizo\n",
    "        my_roots = np.roots(respuesta[i])\n"
   ]
  },
  {
   "cell_type": "code",
   "execution_count": 10,
   "id": "ddb58e26",
   "metadata": {},
   "outputs": [
    {
     "data": {
      "text/plain": [
       "[0.51, 1.57702279727836, 2.43823617954478, 2.20827361508703, 1.0]"
      ]
     },
     "metadata": {},
     "output_type": "display_data"
    },
    {
     "data": {
      "text/plain": [
       "array([-0.45284243+1.09325835j, -0.45284243-1.09325835j,\n",
       "       -1.09325835+0.45284243j, -1.09325835-0.45284243j])"
      ]
     },
     "metadata": {},
     "output_type": "display_data"
    },
    {
     "data": {
      "image/png": "[encoded data removed]",
      "text/plain": [
       "<Figure size 432x288 with 1 Axes>"
      ]
     },
     "metadata": {
      "needs_background": "light"
     },
     "output_type": "display_data"
    }
   ],
   "source": [
    "coeff = eval(str(coeff))\n",
    "my_tf = TransferFunction( [1], coeff )\n",
    "\n",
    "pzmap(my_tf, 4) #S plane pole/zero plot      \n",
    "\n",
    "display(coeff)\n",
    "\n",
    "display(my_roots)"
   ]
  },
  {
   "cell_type": "markdown",
   "id": "1265e09d",
   "metadata": {},
   "source": [
    "Una vez hallados los polos del pasabajos tengo que obtener el circuito que me los genere. \n",
    "Para eso vuelvo a subdividir  $T(jw)$ en  $T(jw) = T_1(jw)*T_2(jw)$\n",
    "Para hallar $T_1(jw)$ y $T_2(jw)$ uso los polos. De ellos obtengo su $\\omega_o$ y $Q$\n",
    "\n",
    "Como es un modelo de Maxima plancidad el $\\omega_o$ sera igual en todos los casos, pero el $Q$ no."
   ]
  },
  {
   "cell_type": "code",
   "execution_count": 21,
   "id": "9fd278c2",
   "metadata": {},
   "outputs": [
    {
     "name": "stdout",
     "output_type": "stream",
     "text": [
      "wo = 1.1833343078048608\n",
      "Q1 = 1.30656296487638\n",
      "Q2 = 0.541196100146197\n"
     ]
    }
   ],
   "source": [
    "wo = abs(my_roots[0])\n",
    "print(\"wo =\",wo)\n",
    "\n",
    "q1 = 1/(2*cos(atan(my_roots[0].imag/my_roots[0].real)))\n",
    "print(\"Q1 =\",q1)\n",
    "\n",
    "q2 = 1/(2*cos(atan(my_roots[2].imag/my_roots[2].real)))\n",
    "print(\"Q2 =\",q2)"
   ]
  },
  {
   "cell_type": "markdown",
   "id": "9304b1ea",
   "metadata": {},
   "source": [
    "En base a esto armare mis funciones transferencia $T_1(jw)$ y $T_2(jw)$"
   ]
  },
  {
   "cell_type": "markdown",
   "id": "9f65c862",
   "metadata": {},
   "source": [
    "Sabemos que en un pasabajos la transferencia es:\n",
    "\\begin{equation}\n",
    "T(s) = \\frac{\\omega_0^2}{s^2+s\\frac{\\omega_0}{Q}+\\omega_0^2}.\n",
    "\\end{equation}\n",
    "\n",
    "entonces reemplazamos con los valores:\n",
    "\n",
    "\\begin{equation}\n",
    "T_1(s) = \\frac{1.183^2}{s^2+s\\frac{1.183}{1.3065}+1.183^2}.\n",
    "\\end{equation}\n",
    "\n",
    "\\begin{equation}\n",
    "T_2(s) = \\frac{1.183^2}{s^2+s\\frac{1.183}{0.5412}+1.183^2}.\n",
    "\\end{equation}"
   ]
  },
  {
   "cell_type": "markdown",
   "id": "1e66ecda",
   "metadata": {},
   "source": [
    "y sabiendo que:\n",
    "\n",
    "$\\omega_0^2 = \\frac{1}{LC}$ y $\\frac{\\omega_0}{Q}= \\frac{R}{L}$\n",
    "\n",
    "Adoptamos un valor, R=1 y operando nos queda:\n",
    "\n",
    "$R_1=1, L_1=0.457, C_1=1.5693$\n",
    "\n",
    "$R_2=1, L_2=1.11, C_2=0.6469$"
   ]
  },
  {
   "cell_type": "markdown",
   "id": "e342a719",
   "metadata": {},
   "source": [
    "Hacemos el circuito equivalente. Para eso tenemos que bufferear ambos circuitos:\n",
    "\n",
    "<img src=\"../img/pasa_bajos_ord4.png\">\n",
    "\n"
   ]
  },
  {
   "cell_type": "markdown",
   "id": "f687cc33",
   "metadata": {},
   "source": [
    "Ahora, transformaremos el circuito pasabajos a un pasaaltos, Para esto, hacemos uso de la función de transformación $p=K(s)=1/s $. Aplicamos la misma a las impedancias del capacitor, inductor y resistor:\n",
    "\n",
    "$Z_{lp\\_R} (p) = R = Z_{hp\\_R} (s)$\n",
    "\n",
    "$Z_{lp\\_L} (p) = p*L = \\frac{L}{s} = \\frac{1}{C_{eq}*s} = Z_{hp\\_C} (s)$\n",
    "\n",
    "$Z_{lp\\_C} (p) = \\frac{1}{p*C} = \\frac{s}{C} = L_{eq} * s = Z_{hp\\_L} (s)$"
   ]
  },
  {
   "cell_type": "markdown",
   "id": "88afd106",
   "metadata": {},
   "source": [
    "Nos queda:\n",
    "\n",
    "$C_{eq1}= 2.188 , L_{eq1}=0.6372$\n",
    "\n",
    "$C_{eq2}= 0.9 , L_{eq2}=1.546$\n",
    "\n",
    "<img src=\"../img/pasa_altos_ord4.png\">\n",
    "<img src=\"../img/alpha_fpa.png\">"
   ]
  },
  {
   "cell_type": "markdown",
   "id": "dd641801",
   "metadata": {},
   "source": [
    "Podemos ver que en $\\omega = 1$, $\\alpha = 1db$ y para $\\omega < 0.286$ r/s, $\\alpha > 35db$\n",
    "\n",
    "Podemos decir que se cumplen los requisitos de la plantilla. Ahora hay que desnormalizar los valores:\n",
    "\n",
    "$\\omega = \\omega_N \\Omega_\\omega$ ---> $\\Omega_\\omega =3500$\n",
    "\n",
    "Para el pasabajos primero:\n",
    "\n",
    "\n",
    "\\begin{equation}\n",
    "T_1(s) = \\frac{4130^2}{s^2+s\\frac{4130}{1.3065}+4130^2}.\n",
    "\\end{equation}\n",
    "\n",
    "\\begin{equation}\n",
    "T_2(s) = \\frac{4130^2}{s^2+s\\frac{4130}{0.5412}+4130^2}.\n",
    "\\end{equation}\n",
    "\n",
    "Despejamos los valores desnormalizados, para ello adopto el valor $C = 1\\mu F$\n",
    "\n",
    "Finalmente:\n",
    "\n",
    "$R_1=448\\Omega$, $L_1= 58.62mHy$ , $C_1=1\\mu F$,$R_1=184\\Omega$, $L_2= 58.62mHy$ , $C_2=1\\mu F$ \n",
    "\n",
    "<img src=\"../img/fpb_w3500.png\">\n",
    "\n",
    "Podemos ver que se sigue cumpliendo que para $\\omega = \\omega_s$ el $\\alpha = 1db$"
   ]
  },
  {
   "cell_type": "code",
   "execution_count": null,
   "id": "8298bc61",
   "metadata": {},
   "outputs": [],
   "source": []
  }
 ],
 "metadata": {
  "kernelspec": {
   "display_name": "Python 3 (ipykernel)",
   "language": "python",
   "name": "python3"
  },
  "language_info": {
   "codemirror_mode": {
    "name": "ipython",
    "version": 3
   },
   "file_extension": ".py",
   "mimetype": "text/x-python",
   "name": "python",
   "nbconvert_exporter": "python",
   "pygments_lexer": "ipython3",
   "version": "3.9.12"
  }
 },
 "nbformat": 4,
 "nbformat_minor": 5
}
