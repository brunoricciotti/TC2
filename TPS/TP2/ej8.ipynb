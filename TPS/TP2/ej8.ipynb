{
 "cells": [
  {
   "cell_type": "markdown",
   "id": "0f7d28f5",
   "metadata": {},
   "source": [
    "# Ejercicio 8"
   ]
  },
  {
   "cell_type": "code",
   "execution_count": 10,
   "id": "700d29dc",
   "metadata": {},
   "outputs": [
    {
     "name": "stdout",
     "output_type": "stream",
     "text": [
      "epsilon: 0.5088471399095875, N: 4\n"
     ]
    }
   ],
   "source": [
    "from sympy import  *\n",
    "import numpy as np\n",
    "from sympy.abc import s\n",
    "from IPython.display import display, Math\n",
    "from splane import pzmap, GroupDelay, bodePlot\n",
    "from scipy.signal import TransferFunction\n",
    "import matplotlib.pyplot as plt\n",
    "import math as m\n",
    "\n",
    "w_p = 45000*2*pi\n",
    "w_s = 12000*2*pi\n",
    "\n",
    "w_p_n = w_p / w_p\n",
    "w_s_n = w_s / w_p\n",
    "\n",
    "Omega_p = 1 / w_p_n\n",
    "Omega_s = 1 / w_s_n\n",
    "\n",
    "w_s_lp = abs(Omega_s)\n",
    "\n",
    "alpha_max = 1    # dB\n",
    "alpha_min = 54   # dB\n",
    "\n",
    "epsilon = m.sqrt(m.pow(10, 0.1 * alpha_max) - 1)\n",
    "N = m.acosh(sqrt(m.pow(10, alpha_min * 0.1) - 1) / epsilon) / (m.acosh(w_s_lp))\n",
    "N = m.ceil(N)\n",
    "\n",
    "print(f'epsilon: {epsilon}, N: {N}')"
   ]
  },
  {
   "cell_type": "code",
   "execution_count": 11,
   "id": "04fce4c9",
   "metadata": {},
   "outputs": [
    {
     "data": {
      "text/latex": [
       "$\\displaystyle \\frac{1}{0.259 \\left(8 w^{4} - 8 w^{2} + 1\\right)^{2} + 1}$"
      ],
      "text/plain": [
       "1/(0.259*(8*w**4 - 8*w**2 + 1)**2 + 1)"
      ]
     },
     "metadata": {},
     "output_type": "display_data"
    },
    {
     "data": {
      "text/latex": [
       "$\\displaystyle \\frac{1}{16.576 w^{8} - 33.152 w^{6} + 20.72 w^{4} - 4.144 w^{2} + 1.259}$"
      ],
      "text/plain": [
       "1/(16.576*w**8 - 33.152*w**6 + 20.72*w**4 - 4.144*w**2 + 1.259)"
      ]
     },
     "metadata": {},
     "output_type": "display_data"
    }
   ],
   "source": [
    "w,T=symbols(\"w,T\")\n",
    "T = 1/(1+(0.259)*(8*w**4 - 8*w**2 +1)**2)\n",
    "\n",
    "\n",
    "num, den = fraction(simplify(expand(T)))  #simplificamos y separamos numerador y denominador\n",
    "\n",
    "display(T)\n",
    "\n",
    "num = Poly(num,s)\n",
    "den = Poly(den,s)\n",
    "\n",
    "T = num/den\n",
    "display(T)"
   ]
  },
  {
   "cell_type": "code",
   "execution_count": 8,
   "id": "25d23404",
   "metadata": {},
   "outputs": [
    {
     "data": {
      "text/plain": [
       "array([-0.13956828+0.98340587j, -0.13956828-0.98340587j,\n",
       "        0.13956828+0.98340587j,  0.13956828-0.98340587j,\n",
       "       -0.33694764+0.40734005j, -0.33694764-0.40734005j,\n",
       "        0.33694764+0.40734005j,  0.33694764-0.40734005j])"
      ]
     },
     "metadata": {},
     "output_type": "display_data"
    },
    {
     "data": {
      "text/plain": [
       "(1, <AxesSubplot:xlabel='$\\\\sigma$', ylabel='j$\\\\omega$'>)"
      ]
     },
     "execution_count": 8,
     "metadata": {},
     "output_type": "execute_result"
    },
    {
     "data": {
      "image/png": "[encoded data removed]",
      "text/plain": [
       "<Figure size 432x288 with 1 Axes>"
      ]
     },
     "metadata": {
      "needs_background": "light"
     },
     "output_type": "display_data"
    }
   ],
   "source": [
    "coeffs_den = [16.576,0,33.152,0,20.72,0,4.144,0,1.26]#aca ya estoy en s, por eso cambian los signos de los coeficientes\n",
    "\n",
    "root = np.roots(coeffs_den)\n",
    "\n",
    "display(root)\n",
    "\n",
    "my_tf = TransferFunction( [1], coeffs_den )\n",
    "\n",
    "pzmap(my_tf, 8) #S plane pole/zero plot"
   ]
  },
  {
   "cell_type": "code",
   "execution_count": 12,
   "id": "a2fcc5e8",
   "metadata": {},
   "outputs": [
    {
     "name": "stdout",
     "output_type": "stream",
     "text": [
      "polos: [(-0.14+0.98j), (-0.14-0.98j), (-0.34+0.41j), (-0.34-0.41j)]\n"
     ]
    }
   ],
   "source": [
    "polos = np.roots(coeffs_den)\n",
    "polost = []\n",
    "\n",
    "\n",
    "for polo in polos:\n",
    "    if (polo.real <0):\n",
    "        polost.append(polo.round(2))\n",
    "        \n",
    "print(\"polos:\",polost)        "
   ]
  },
  {
   "cell_type": "code",
   "execution_count": 14,
   "id": "28d9a90c",
   "metadata": {},
   "outputs": [
    {
     "name": "stdout",
     "output_type": "stream",
     "text": [
      "wo1 = 0.9899494936611665\n",
      "wo2 = 0.532634959423431\n",
      "Q1 = 3.53553390593274\n",
      "Q2 = 0.783286705034457\n"
     ]
    }
   ],
   "source": [
    "wo_1 = abs(polost[0])\n",
    "print(\"wo1 =\",wo_1)\n",
    "\n",
    "wo_2 = abs(polost[2])\n",
    "print(\"wo2 =\",wo_2)\n",
    "\n",
    "\n",
    "q1 = 1/(2*cos(atan(polost[0].imag/polost[0].real)))\n",
    "print(\"Q1 =\",q1)\n",
    "q2 = 1/(2*cos(atan(polost[2].imag/polost[2].real)))\n",
    "print(\"Q2 =\",q2)"
   ]
  },
  {
   "cell_type": "code",
   "execution_count": 21,
   "id": "11c25e00",
   "metadata": {},
   "outputs": [
    {
     "data": {
      "text/latex": [
       "$\\displaystyle \\frac{0.98}{s^{2} + 0.28 s + 0.98}$"
      ],
      "text/plain": [
       "0.98/(s**2 + 0.28*s + 0.98)"
      ]
     },
     "metadata": {},
     "output_type": "display_data"
    },
    {
     "data": {
      "text/latex": [
       "$\\displaystyle \\frac{0.2837}{s^{2} + 0.68 s + 0.2837}$"
      ],
      "text/plain": [
       "0.2837/(s**2 + 0.68*s + 0.2837)"
      ]
     },
     "metadata": {},
     "output_type": "display_data"
    }
   ],
   "source": [
    "T1,T2 = symbols(\"T1,T2\")\n",
    "\n",
    "T1 = wo_1**2/(s**2 + s*(wo_1/q1) + wo_1**2)\n",
    "display(T1)\n",
    "T2 = wo_2**2/(s**2 + s*(wo_2/q2) + wo_2**2)\n",
    "display(T2)"
   ]
  },
  {
   "cell_type": "markdown",
   "id": "61c87234",
   "metadata": {},
   "source": [
    "T1 = T1.subs(s, s/w_p)\n",
    "T2 = T2.subs(s, s/w_p)\n",
    "T1 = simplify(expand(T1))\n",
    "T2 = simplify(expand(T2))\n",
    "display(T1)\n",
    "display(T2)"
   ]
  },
  {
   "cell_type": "code",
   "execution_count": 22,
   "id": "8e107077",
   "metadata": {},
   "outputs": [
    {
     "data": {
      "text/latex": [
       "$\\displaystyle \\frac{0.98 s^{2}}{0.98 s^{2} + 0.28 s + 1}$"
      ],
      "text/plain": [
       "0.98*s**2/(0.98*s**2 + 0.28*s + 1)"
      ]
     },
     "metadata": {},
     "output_type": "display_data"
    },
    {
     "data": {
      "text/latex": [
       "$\\displaystyle \\frac{0.2837 s^{2}}{0.2837 s^{2} + 0.68 s + 1}$"
      ],
      "text/plain": [
       "0.2837*s**2/(0.2837*s**2 + 0.68*s + 1)"
      ]
     },
     "metadata": {},
     "output_type": "display_data"
    }
   ],
   "source": [
    "T1 = T1.subs(s, 1/s)\n",
    "T2 = T2.subs(s, 1/s)\n",
    "T1 = simplify(expand(T1))\n",
    "T2 = simplify(expand(T2))\n",
    "display(T1)\n",
    "display(T2)"
   ]
  },
  {
   "cell_type": "code",
   "execution_count": 23,
   "id": "047d141e",
   "metadata": {},
   "outputs": [
    {
     "data": {
      "text/latex": [
       "$\\displaystyle \\frac{1.20987654320988 \\cdot 10^{-10} s^{2}}{1.20987654320988 \\cdot 10^{-10} s^{2} + 3.11111111111111 \\cdot 10^{-6} \\pi s + \\pi^{2}}$"
      ],
      "text/plain": [
       "1.20987654320988e-10*s**2/(1.20987654320988e-10*s**2 + 3.11111111111111e-6*pi*s + pi**2)"
      ]
     },
     "metadata": {},
     "output_type": "display_data"
    },
    {
     "data": {
      "text/latex": [
       "$\\displaystyle \\frac{3.50246913580247 \\cdot 10^{-11} s^{2}}{3.50246913580247 \\cdot 10^{-11} s^{2} + 7.55555555555556 \\cdot 10^{-6} \\pi s + \\pi^{2}}$"
      ],
      "text/plain": [
       "3.50246913580247e-11*s**2/(3.50246913580247e-11*s**2 + 7.55555555555556e-6*pi*s + pi**2)"
      ]
     },
     "metadata": {},
     "output_type": "display_data"
    }
   ],
   "source": [
    "T1 = T1.subs(s, s/w_p)\n",
    "T2 = T2.subs(s, s/w_p)\n",
    "T1 = simplify(expand(T1))\n",
    "T2 = simplify(expand(T2))\n",
    "display(T1)\n",
    "display(T2)"
   ]
  },
  {
   "cell_type": "code",
   "execution_count": 24,
   "id": "6f51a5da",
   "metadata": {},
   "outputs": [
    {
     "data": {
      "text/latex": [
       "$\\displaystyle \\frac{1.0 s^{2}}{1.0 s^{2} + 25714.2857142857 \\pi s + 8265306122.44898 \\pi^{2}}$"
      ],
      "text/plain": [
       "1.0*s**2/(1.0*s**2 + 25714.2857142857*pi*s + 8265306122.44898*pi**2)"
      ]
     },
     "metadata": {},
     "output_type": "display_data"
    },
    {
     "data": {
      "text/latex": [
       "$\\displaystyle \\frac{1.0 s^{2}}{1.0 s^{2} + 215720.831864646 \\pi s + 28551286570.3208 \\pi^{2}}$"
      ],
      "text/plain": [
       "1.0*s**2/(1.0*s**2 + 215720.831864646*pi*s + 28551286570.3208*pi**2)"
      ]
     },
     "metadata": {},
     "output_type": "display_data"
    }
   ],
   "source": [
    "num1, den1 = fraction(simplify(expand(T1)))  #simplificamos y separamos numerador y denominador\n",
    "num2, den2 = fraction(simplify(expand(T2)))  #simplificamos y separamos numerador y denominador\n",
    "\n",
    "num1 = Poly(num1,s)\n",
    "den1 = Poly(den1,s)\n",
    "num2 = Poly(num2,s)\n",
    "den2 = Poly(den2,s)\n",
    "\n",
    "num1 = num1.monic() #hacemos que el numerador y denominador sean monicos\n",
    "den1 = den1.monic()\n",
    "num2 = num2.monic() #hacemos que el numerador y denominador sean monicos\n",
    "den2 = den2.monic()\n",
    "\n",
    "T1 = num1/den1\n",
    "T2 = num2/den2\n",
    "\n",
    "display(T1)\n",
    "display(T2)\n"
   ]
  },
  {
   "cell_type": "markdown",
   "id": "5595d35e",
   "metadata": {},
   "source": [
    "Para implementar este circuito usaremos la siguiente estructura:\n",
    "    \n",
    "<img src=\"img/Estructura_OTA.png\">\n",
    "\n",
    "Su transferencia es:\n",
    "\n",
    "<img src=\"img/transf_OTA.png\">\n"
   ]
  },
  {
   "cell_type": "markdown",
   "id": "e3fb7502",
   "metadata": {},
   "source": [
    "En este caso, como necesitamos el $s^{2}$ en el numerador, conectamos $V_A$ y $V_B$ a masa y asi la transferencia nos queda:\n",
    "\n",
    "$\n",
    "{\\Large \\frac{V_{o1}}{V_C} = \\frac{s^{2}C_1 C_2}{s^{2}C_1 C_2 + sC_1 g_{m2} + g_{m1}g_{m2}}}$"
   ]
  },
  {
   "cell_type": "markdown",
   "id": "565473a2",
   "metadata": {},
   "source": [
    "Operando llegamos a los siguientes valores:\n",
    "\n",
    "C1 = C2 = 11uF , C3 = C4 = 5.91uF, Gm1=11.11 S, Gm2=0.8882 S, Gm3=2.4575 S, Gm4=4.016 S\n",
    "\n",
    "Finalmente simulamos:"
   ]
  },
  {
   "cell_type": "markdown",
   "id": "7e86b35f",
   "metadata": {},
   "source": [
    "<img src=\"img/simulacion_desn.png\">\n",
    "\n",
    "Se puede ver que los requisitos de la plantilla fueron cumplidos."
   ]
  },
  {
   "cell_type": "code",
   "execution_count": null,
   "id": "833f916f",
   "metadata": {},
   "outputs": [],
   "source": []
  }
 ],
 "metadata": {
  "kernelspec": {
   "display_name": "Python 3 (ipykernel)",
   "language": "python",
   "name": "python3"
  },
  "language_info": {
   "codemirror_mode": {
    "name": "ipython",
    "version": 3
   },
   "file_extension": ".py",
   "mimetype": "text/x-python",
   "name": "python",
   "nbconvert_exporter": "python",
   "pygments_lexer": "ipython3",
   "version": "3.9.12"
  }
 },
 "nbformat": 4,
 "nbformat_minor": 5
}
