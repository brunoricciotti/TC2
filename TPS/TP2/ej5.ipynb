{
 "cells": [
  {
   "cell_type": "markdown",
   "id": "bc0a8277",
   "metadata": {},
   "source": [
    "<img src=\"img/ej5.png\">"
   ]
  },
  {
   "cell_type": "markdown",
   "id": "abacf633",
   "metadata": {},
   "source": [
    "Para satisfacer esta plantilla debemos realizar un filtro pasa-altos. Para que tenga el menor orden posible debe ser de tipo Chebyshev.\n",
    "Noramlizamos en frecuencia:"
   ]
  },
  {
   "cell_type": "code",
   "execution_count": 61,
   "id": "bce52df3",
   "metadata": {},
   "outputs": [
    {
     "name": "stdout",
     "output_type": "stream",
     "text": [
      "wpn =  1\n",
      "wsn =  1/3\n"
     ]
    }
   ],
   "source": [
    "from sympy import  *\n",
    "import numpy as np\n",
    "from sympy.abc import s\n",
    "from IPython.display import display, Math\n",
    "from splane import pzmap, GroupDelay, bodePlot\n",
    "from scipy.signal import TransferFunction\n",
    "import matplotlib.pyplot as plt\n",
    "import math as m\n",
    "\n",
    "w_p = 9600*2*pi\n",
    "w_s = 3200*2*pi\n",
    "\n",
    "w_p_n = w_p / w_p\n",
    "w_s_n = w_s / w_p\n",
    "\n",
    "print(\"wpn = \", w_p_n)\n",
    "print(\"wsn = \", w_s_n)"
   ]
  },
  {
   "cell_type": "markdown",
   "id": "6ddae10e",
   "metadata": {},
   "source": [
    "Y ahora realizamos la transformacion de pasa-altos a pasabajos:"
   ]
  },
  {
   "cell_type": "code",
   "execution_count": 81,
   "id": "f3d47bbb",
   "metadata": {},
   "outputs": [
    {
     "name": "stdout",
     "output_type": "stream",
     "text": [
      "Omega_p =  1\n",
      "Omega_s =  3\n",
      "epsilon: 0.3106093948083108, N: 5\n"
     ]
    }
   ],
   "source": [
    "Omega_p = 1 / w_p_n\n",
    "Omega_s = 1 / w_s_n\n",
    "\n",
    "print(\"Omega_p = \", Omega_p)\n",
    "print(\"Omega_s = \", Omega_s)\n",
    "\n",
    "w_s_lp = abs(Omega_s)\n",
    "\n",
    "alpha_max = 0.4    # dB\n",
    "alpha_min = 48   # dB\n",
    "\n",
    "epsilon = m.sqrt(m.pow(10, 0.1 * alpha_max) - 1)\n",
    "N = m.acosh(sqrt(m.pow(10, alpha_min * 0.1) - 1) / epsilon) / (m.acosh(w_s_lp))\n",
    "N = m.ceil(N)\n",
    "\n",
    "print(f'epsilon: {epsilon}, N: {N}')"
   ]
  },
  {
   "cell_type": "code",
   "execution_count": 82,
   "id": "ed1e695d",
   "metadata": {},
   "outputs": [
    {
     "data": {
      "text/latex": [
       "$\\displaystyle \\frac{1}{0.0964781961431851 \\left(16 w^{5} - 20 w^{3} + 5 w\\right)^{2} + 1}$"
      ],
      "text/plain": [
       "1/(0.0964781961431851*(16*w**5 - 20*w**3 + 5*w)**2 + 1)"
      ]
     },
     "metadata": {},
     "output_type": "display_data"
    },
    {
     "data": {
      "text/latex": [
       "$\\displaystyle \\frac{1}{24.6984182126554 w^{10} - 61.7460455316385 w^{8} + 54.0277898401837 w^{6} - 19.295639228637 w^{4} + 2.41195490357963 w^{2} + 1.0}$"
      ],
      "text/plain": [
       "1/(24.6984182126554*w**10 - 61.7460455316385*w**8 + 54.0277898401837*w**6 - 19.295639228637*w**4 + 2.41195490357963*w**2 + 1.0)"
      ]
     },
     "metadata": {},
     "output_type": "display_data"
    }
   ],
   "source": [
    "w,T=symbols(\"w,T\")\n",
    "T = 1/(1+(epsilon**2)*(16*w**5 - 20*w**3 +5*w)**2)\n",
    "\n",
    "\n",
    "num, den = fraction(simplify(expand(T)))  #simplificamos y separamos numerador y denominador\n",
    "\n",
    "display(T)\n",
    "\n",
    "num = Poly(num,s)\n",
    "den = Poly(den,s)\n",
    "\n",
    "T = num/den\n",
    "display(T)"
   ]
  },
  {
   "cell_type": "markdown",
   "id": "c448bae6",
   "metadata": {},
   "source": [
    "Buscamos los polos:"
   ]
  },
  {
   "cell_type": "code",
   "execution_count": 90,
   "id": "210043f2",
   "metadata": {},
   "outputs": [
    {
     "name": "stdout",
     "output_type": "stream",
     "text": [
      "polos: [(-0.12+1.02j), (-0.12-1.02j), (-0.31+0.63j), (-0.31-0.63j), (-0.39+0j)]\n"
     ]
    }
   ],
   "source": [
    "coeffs_den = [-24.6984182126554,0,-61.7460455316385,0,-54.0277898401837,0,-19.295639228637,0,-2.41195490357963,0,1]\n",
    "polos = np.roots(coeffs_den)\n",
    "polost = []\n",
    "\n",
    "\n",
    "for polo in polos:\n",
    "    if (polo.real <0):\n",
    "        polost.append(polo.round(2))\n",
    "        \n",
    "print(\"polos:\",polost)"
   ]
  },
  {
   "cell_type": "code",
   "execution_count": 91,
   "id": "454e5260",
   "metadata": {},
   "outputs": [
    {
     "name": "stdout",
     "output_type": "stream",
     "text": [
      "wo1 = 1.0270345661174214\n",
      "wo2 = 0.7021395872616784\n",
      "wo3 = 0.39\n",
      "Q1 = 4.27931069215592\n",
      "Q2 = 1.13248320526077\n",
      "Q3 = 1/2\n"
     ]
    }
   ],
   "source": [
    "wo_1 = abs(polost[0])\n",
    "print(\"wo1 =\",wo_1)\n",
    "\n",
    "wo_2 = abs(polost[2])\n",
    "print(\"wo2 =\",wo_2)\n",
    "\n",
    "wo_3 = abs(polost[4])\n",
    "print(\"wo3 =\",wo_3)\n",
    "\n",
    "q1 = 1/(2*cos(atan(polost[0].imag/polost[0].real)))\n",
    "print(\"Q1 =\",q1)\n",
    "q2 = 1/(2*cos(atan(polost[2].imag/polost[2].real)))\n",
    "print(\"Q2 =\",q2)\n",
    "q3 = 1/(2*cos(atan(polost[4].imag/polost[4].real)))\n",
    "print(\"Q3 =\",q3)"
   ]
  },
  {
   "cell_type": "code",
   "execution_count": 92,
   "id": "f66586d3",
   "metadata": {},
   "outputs": [
    {
     "data": {
      "text/plain": [
       "(1, <AxesSubplot:xlabel='$\\\\sigma$', ylabel='j$\\\\omega$'>)"
      ]
     },
     "execution_count": 92,
     "metadata": {},
     "output_type": "execute_result"
    },
    {
     "data": {
      "image/png": "[encoded data removed]",
      "text/plain": [
       "<Figure size 432x288 with 1 Axes>"
      ]
     },
     "metadata": {
      "needs_background": "light"
     },
     "output_type": "display_data"
    }
   ],
   "source": [
    "my_tf = TransferFunction( [1], coeffs_den )\n",
    "\n",
    "pzmap(my_tf, 10) #S plane pole/zero plot"
   ]
  },
  {
   "cell_type": "code",
   "execution_count": 97,
   "id": "f744285b",
   "metadata": {},
   "outputs": [
    {
     "data": {
      "text/latex": [
       "$\\displaystyle \\frac{0.0404884228370383}{s + 0.39}$"
      ],
      "text/plain": [
       "0.0404884228370383/(s + 0.39)"
      ]
     },
     "metadata": {},
     "output_type": "display_data"
    },
    {
     "data": {
      "text/latex": [
       "$\\displaystyle \\frac{0.493}{s^{2} + 0.62 s + 0.493}$"
      ],
      "text/plain": [
       "0.493/(s**2 + 0.62*s + 0.493)"
      ]
     },
     "metadata": {},
     "output_type": "display_data"
    },
    {
     "data": {
      "text/latex": [
       "$\\displaystyle \\frac{1.0548}{s^{2} + 0.24 s + 1.0548}$"
      ],
      "text/plain": [
       "1.0548/(s**2 + 0.24*s + 1.0548)"
      ]
     },
     "metadata": {},
     "output_type": "display_data"
    }
   ],
   "source": [
    "T1,T2,T3 = symbols(\"T1,T2,T3\")\n",
    "\n",
    "T1 = (1/abs((coeffs_den[0])))/(s + wo_3) #en el numerador debemos poner una constante que representa al coeff del s**10\n",
    "display(T1)\n",
    "T2 = wo_2**2/(s**2 + s*(wo_2/q2) + wo_2**2)\n",
    "display(T2)\n",
    "T3 = wo_1**2/(s**2 + s*(wo_1/q1) + wo_1**2)\n",
    "display(T3)"
   ]
  },
  {
   "cell_type": "markdown",
   "id": "a793d5b8",
   "metadata": {},
   "source": [
    "Esto puede ser implementado con dos filtros pasa-altos de 2° orden, y unos de 1° orden."
   ]
  },
  {
   "cell_type": "code",
   "execution_count": 98,
   "id": "ea22d21a",
   "metadata": {},
   "outputs": [
    {
     "data": {
      "text/latex": [
       "$\\displaystyle \\frac{0.0404884228370383 s}{0.39 s + 1}$"
      ],
      "text/plain": [
       "0.0404884228370383*s/(0.39*s + 1)"
      ]
     },
     "metadata": {},
     "output_type": "display_data"
    },
    {
     "data": {
      "text/latex": [
       "$\\displaystyle \\frac{0.493 s^{2}}{0.493 s^{2} + 0.62 s + 1}$"
      ],
      "text/plain": [
       "0.493*s**2/(0.493*s**2 + 0.62*s + 1)"
      ]
     },
     "metadata": {},
     "output_type": "display_data"
    },
    {
     "data": {
      "text/latex": [
       "$\\displaystyle \\frac{1.0548 s^{2}}{1.0548 s^{2} + 0.24 s + 1}$"
      ],
      "text/plain": [
       "1.0548*s**2/(1.0548*s**2 + 0.24*s + 1)"
      ]
     },
     "metadata": {},
     "output_type": "display_data"
    }
   ],
   "source": [
    "T1_pa = T1.subs(s, 1/s)\n",
    "T2_pa = T2.subs(s, 1/s)\n",
    "T3_pa = T3.subs(s, 1/s)\n",
    "\n",
    "T1_pa = simplify(expand(T1_pa))\n",
    "T2_pa = simplify(expand(T2_pa))\n",
    "T3_pa = simplify(expand(T3_pa))\n",
    "\n",
    "display(T1_pa)\n",
    "display(T2_pa)\n",
    "display(T3_pa)"
   ]
  },
  {
   "cell_type": "code",
   "execution_count": 99,
   "id": "e897db5f",
   "metadata": {},
   "outputs": [
    {
     "data": {
      "text/latex": [
       "$\\displaystyle \\frac{2.10877202276241 \\cdot 10^{-6} s}{2.03125 \\cdot 10^{-5} s + \\pi}$"
      ],
      "text/plain": [
       "2.10877202276241e-6*s/(2.03125e-5*s + pi)"
      ]
     },
     "metadata": {},
     "output_type": "display_data"
    },
    {
     "data": {
      "text/latex": [
       "$\\displaystyle \\frac{1.33734809027778 \\cdot 10^{-9} s^{2}}{1.33734809027778 \\cdot 10^{-9} s^{2} + 3.22916666666667 \\cdot 10^{-5} \\pi s + \\pi^{2}}$"
      ],
      "text/plain": [
       "1.33734809027778e-9*s**2/(1.33734809027778e-9*s**2 + 3.22916666666667e-5*pi*s + pi**2)"
      ]
     },
     "metadata": {},
     "output_type": "display_data"
    },
    {
     "data": {
      "text/latex": [
       "$\\displaystyle \\frac{2.861328125 \\cdot 10^{-9} s^{2}}{2.861328125 \\cdot 10^{-9} s^{2} + 1.25 \\cdot 10^{-5} \\pi s + \\pi^{2}}$"
      ],
      "text/plain": [
       "2.861328125e-9*s**2/(2.861328125e-9*s**2 + 1.25e-5*pi*s + pi**2)"
      ]
     },
     "metadata": {},
     "output_type": "display_data"
    }
   ],
   "source": [
    "T1_pa = T1_pa.subs(s, s/w_p)\n",
    "T2_pa = T2_pa.subs(s, s/w_p)\n",
    "T3_pa = T3_pa.subs(s, s/w_p)\n",
    "\n",
    "T1_pa = simplify(expand(T1_pa))\n",
    "T2_pa = simplify(expand(T2_pa))\n",
    "T3_pa = simplify(expand(T3_pa))\n",
    "\n",
    "display(T1_pa)\n",
    "display(T2_pa)\n",
    "display(T3_pa)"
   ]
  },
  {
   "cell_type": "code",
   "execution_count": 100,
   "id": "18066098",
   "metadata": {},
   "outputs": [
    {
     "data": {
      "text/latex": [
       "$\\displaystyle \\frac{1.0 s^{2}}{1.0 s^{2} + 24146.0446247464 \\pi s + 747748478.701825 \\pi^{2}}$"
      ],
      "text/plain": [
       "1.0*s**2/(1.0*s**2 + 24146.0446247464*pi*s + 747748478.701825*pi**2)"
      ]
     },
     "metadata": {},
     "output_type": "display_data"
    },
    {
     "data": {
      "text/latex": [
       "$\\displaystyle \\frac{1.0 s^{2}}{1.0 s^{2} + 4368.60068259385 \\pi s + 349488054.607509 \\pi^{2}}$"
      ],
      "text/plain": [
       "1.0*s**2/(1.0*s**2 + 4368.60068259385*pi*s + 349488054.607509*pi**2)"
      ]
     },
     "metadata": {},
     "output_type": "display_data"
    }
   ],
   "source": [
    "num3, den3 = fraction(simplify(expand(T3_pa)))  #simplificamos y separamos numerador y denominador\n",
    "num2, den2 = fraction(simplify(expand(T2_pa)))  #simplificamos y separamos numerador y denominador\n",
    "\n",
    "num3 = Poly(num3,s)\n",
    "den3 = Poly(den3,s)\n",
    "num2 = Poly(num2,s)\n",
    "den2 = Poly(den2,s)\n",
    "\n",
    "num2 = num2.monic() #hacemos que el numerador y denominador sean monicos\n",
    "den2 = den2.monic()\n",
    "num3 = num3.monic() #hacemos que el numerador y denominador sean monicos\n",
    "den3 = den3.monic()\n",
    "\n",
    "T2_pa = num2/den2\n",
    "T3_pa = num3/den3\n",
    "\n",
    "display(T2_pa)\n",
    "display(T3_pa)"
   ]
  },
  {
   "cell_type": "markdown",
   "id": "835cf63e",
   "metadata": {},
   "source": [
    "Obtenemos los valores de los componentes y simulamos:\n",
    "\n",
    "<img src=\"img/simulacion_ej5.png\">"
   ]
  },
  {
   "cell_type": "markdown",
   "id": "e280c682",
   "metadata": {},
   "source": [
    "Podemos comprobar que cumplimos los requisitos del filtro"
   ]
  },
  {
   "cell_type": "markdown",
   "id": "1f9d74ec",
   "metadata": {},
   "source": [
    "Si ahora usamos una norma de impedancia $\\Omega_Z$ = 2.2K, los valores de los componentes seran:\n",
    "\n",
    "$R_{N}=\\frac{R}{\\Omega_Z}, L_N = \\frac{R_N.Q}{\\omega_o}, C_N=\\frac{1}{R_N.Q.\\omega_o}$\n",
    "\n",
    "Enonces me queda:\n",
    "\n",
    "$R_1=4.545, L_1=60\\mu H, C_1=2.26\\mu F$\n",
    "\n",
    "$R_2=4.545, L_2=331.22\\mu H, C_2=0.875\\mu F$}\n",
    "\n",
    "$R_3=7.03, L_3=45.45\\mu H$\n",
    "\n",
    "<img src=\"img/ej5_norm.png\">"
   ]
  },
  {
   "cell_type": "markdown",
   "id": "75db2d06",
   "metadata": {},
   "source": [
    "Lo siguiente que haremos es activar las bobinas utilizando OTAs. El circuito sera el siguiente:\n",
    "\n",
    "<img src=\"img/ej5_OTA.png\">\n",
    "\n",
    "Y su transferencia es:\n",
    "\n",
    "<img src=\"img/ej5_transf_OTA.png\">\n",
    "\n",
    "Podemos ver que la transferencia es identica a la obtenida con elementos pasivos."
   ]
  },
  {
   "cell_type": "code",
   "execution_count": null,
   "id": "56ebf921",
   "metadata": {},
   "outputs": [],
   "source": []
  }
 ],
 "metadata": {
  "kernelspec": {
   "display_name": "Python 3 (ipykernel)",
   "language": "python",
   "name": "python3"
  },
  "language_info": {
   "codemirror_mode": {
    "name": "ipython",
    "version": 3
   },
   "file_extension": ".py",
   "mimetype": "text/x-python",
   "name": "python",
   "nbconvert_exporter": "python",
   "pygments_lexer": "ipython3",
   "version": "3.9.12"
  }
 },
 "nbformat": 4,
 "nbformat_minor": 5
}
