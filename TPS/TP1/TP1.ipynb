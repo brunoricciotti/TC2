{
 "cells": [
  {
   "cell_type": "code",
   "execution_count": 4,
   "id": "ec5f311e",
   "metadata": {},
   "outputs": [
    {
     "ename": "NameError",
     "evalue": "name 'Vx' is not defined",
     "output_type": "error",
     "traceback": [
      "\u001b[1;31m---------------------------------------------------------------------------\u001b[0m",
      "\u001b[1;31mNameError\u001b[0m                                 Traceback (most recent call last)",
      "\u001b[1;32m~\\AppData\\Local\\Temp/ipykernel_5736/3252871305.py\u001b[0m in \u001b[0;36m<module>\u001b[1;34m\u001b[0m\n\u001b[0;32m      6\u001b[0m \u001b[1;33m\u001b[0m\u001b[0m\n\u001b[0;32m      7\u001b[0m aa = sp.solve([  #despeja Vi y Vo en base a las ecuaciones (Me quedan en funcion de Vx)\n\u001b[1;32m----> 8\u001b[1;33m                 \u001b[0mVx\u001b[0m\u001b[1;33m*\u001b[0m\u001b[1;33m(\u001b[0m\u001b[0mY1\u001b[0m\u001b[1;33m+\u001b[0m\u001b[0mY2\u001b[0m\u001b[1;33m)\u001b[0m\u001b[1;33m-\u001b[0m\u001b[0mVi\u001b[0m\u001b[1;33m*\u001b[0m\u001b[0mY1\u001b[0m\u001b[1;33m,\u001b[0m\u001b[1;33m\u001b[0m\u001b[1;33m\u001b[0m\u001b[0m\n\u001b[0m\u001b[0;32m      9\u001b[0m                 \u001b[0mVx\u001b[0m\u001b[1;33m*\u001b[0m\u001b[1;33m(\u001b[0m\u001b[0mG1\u001b[0m\u001b[1;33m+\u001b[0m\u001b[0mG2\u001b[0m\u001b[1;33m)\u001b[0m \u001b[1;33m-\u001b[0m\u001b[0mVi\u001b[0m\u001b[1;33m*\u001b[0m\u001b[0mG1\u001b[0m \u001b[1;33m-\u001b[0m\u001b[0mVo\u001b[0m\u001b[1;33m*\u001b[0m\u001b[0mG2\u001b[0m\u001b[1;33m\u001b[0m\u001b[1;33m\u001b[0m\u001b[0m\n\u001b[0;32m     10\u001b[0m                 ], \n",
      "\u001b[1;31mNameError\u001b[0m: name 'Vx' is not defined"
     ]
    }
   ],
   "source": [
    "import sympy as sp\n",
    "from sympy.abc import s\n",
    "from IPython.display import display, Math\n",
    "\n",
    "R,Ra,Rb,Z1,Z2,C,Y1,Y2 = sp.symbols(\"R,Ra,Rb,Z1,Z2,C,Y1,Y2\")\n",
    "\n",
    "aa = sp.solve([  #despeja Vi y Vo en base a las ecuaciones (Me quedan en funcion de Vx)\n",
    "                Vx*(Y1+Y2)-Vi*Y1, \n",
    "                Vx*(G1+G2) -Vi*G1 -Vo*G2\n",
    "                ], \n",
    "                [Vi, Vo])\n",
    "\n",
    "transf_func = (Z2*Ra - Z1*Rb)/(Z1*Ra + Z1*Rb) #Aca defino mi transf_funct como el cociente entre Vo y Vi (Vo/Vi). Tambien es simbolica\n",
    "\n",
    "\n",
    "# Ejercicio 7.a: Pasatodo de 1er orden\n",
    "\n",
    "tf7b = transf_func.subs(Y1, 1/(R+1/s/C))\n",
    "tf7b = tf7b.subs(Y2, 1/R+s*C)\n",
    "\n",
    "Z1 = 1/Y1\n",
    "Z2 = 1/Y2\n",
    "\n",
    "num, den = sp.fraction(sp.simplify(sp.expand(tf7a)))  #simplificamos y separamos numerador y denominador\n",
    "\n",
    "\n",
    "num = sp.Poly(num,s)\n",
    "den = sp.Poly(den,s)\n",
    "\n",
    "\n",
    "k = num.LC() / den.LC()\n",
    "\n",
    "num = num.monic() #hacemos que el numerador y denominador sean monicos\n",
    "den = den.monic()\n",
    "\n",
    "den_coeffs = den.all_coeffs()\n",
    "wo = den_coeffs[-1]\n",
    "\n",
    "tf7a_final = sp.Mul(k,num/den, evaluate=False)\n",
    "\n",
    "print('')\n",
    "print('################')\n",
    "print('# Ejercicio 7a #')\n",
    "print('################')\n",
    "display(tf7a_final)\n",
    "display(Math( r' \\omega_o = ' + sp.latex(wo) ))"
   ]
  },
  {
   "cell_type": "code",
   "execution_count": null,
   "id": "a6a0ae67",
   "metadata": {},
   "outputs": [],
   "source": []
  }
 ],
 "metadata": {
  "kernelspec": {
   "display_name": "Python 3 (ipykernel)",
   "language": "python",
   "name": "python3"
  },
  "language_info": {
   "codemirror_mode": {
    "name": "ipython",
    "version": 3
   },
   "file_extension": ".py",
   "mimetype": "text/x-python",
   "name": "python",
   "nbconvert_exporter": "python",
   "pygments_lexer": "ipython3",
   "version": "3.9.7"
  }
 },
 "nbformat": 4,
 "nbformat_minor": 5
}
