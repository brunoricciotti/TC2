{
 "cells": [
  {
   "cell_type": "code",
   "execution_count": 11,
   "id": "06693967",
   "metadata": {},
   "outputs": [],
   "source": [
    "#!/usr/bin/env python3\n",
    "# -*- coding: utf-8 -*-\n",
    "\"\"\"\n",
    "Created on Mon Apr 11 10:52:56 2022\n",
    "\n",
    "\"\"\"\n",
    "\n",
    "import sympy as sp\n",
    "from sympy.abc import s\n",
    "from IPython.display import display, Math\n",
    "\n",
    "Vi, V1, V2, V3, Vx,  = sp.symbols(\"Vi, V1, V2, V3, Vx\")\n",
    "R1,R2,R3,R4,R5,R6,Z2,Z3,C2,C3 = sp.symbols(\"R1,R2,R3,R4,R5,R6,Z2,Z3,C2,C3\")\n",
    "\n",
    "aa = sp.solve([  #despeja Vi y Vo en base a las ecuaciones (Me quedan en funcion de Vx)\n",
    "                V2+V1*(Z2/R1),\n",
    "                V3+V2*(Z3/R2),\n",
    "                ((Vi-Vx)/R5) + ((V2-Vx)/R6), \n",
    "                ((Vx-V1)/R4) + ((Vx-V3)/R3)\n",
    "                ],\n",
    "                [Vi, V1, V2, V3])\n"
   ]
  },
  {
   "cell_type": "code",
   "execution_count": 15,
   "id": "8c859cf2",
   "metadata": {},
   "outputs": [
    {
     "name": "stdout",
     "output_type": "stream",
     "text": [
      "\n",
      "################\n",
      "# Ejercicio 8a #\n",
      "################\n"
     ]
    },
    {
     "data": {
      "text/latex": [
       "$\\displaystyle \\frac{s^{2}}{s^{2} + \\frac{s \\left(R_{3} R_{5} + R_{4} R_{5}\\right)}{C_{2} R_{1} R_{3} R_{5} + C_{2} R_{1} R_{3} R_{6}} + \\frac{R_{4}}{C_{2} C_{3} R_{1} R_{2} R_{3}}} \\frac{R_{6} \\left(R_{3} + R_{4}\\right)}{R_{3} \\left(R_{5} + R_{6}\\right)}$"
      ],
      "text/plain": [
       "(s**2/(s**2 + s*(R3*R5 + R4*R5)/(C2*R1*R3*R5 + C2*R1*R3*R6) + R4/(C2*C3*R1*R2*R3)))*(R6*(R3 + R4)/(R3*(R5 + R6)))"
      ]
     },
     "metadata": {},
     "output_type": "display_data"
    },
    {
     "data": {
      "text/latex": [
       "$\\displaystyle  \\omega_o = \\frac{R_{4}}{C_{2} C_{3} R_{1} R_{2} R_{3}}$"
      ],
      "text/plain": [
       "<IPython.core.display.Math object>"
      ]
     },
     "metadata": {},
     "output_type": "display_data"
    }
   ],
   "source": [
    "# Ejercicio 8.a:\n",
    "\n",
    "transf_func = aa[V1]/aa[Vi] #Aca defino mi transf_funct como el cociente entre Vo y Vi (Vo/Vi). Tambien es simbolica\n",
    "\n",
    "tf7a = transf_func.subs(Z2, 1/(s*C2)) #reemplazo Y1 e Y2 por sus respectivos valores simbolicos\n",
    "tf7a = tf7a.subs(Z3, 1/(s*C3))\n",
    "\n",
    "num, den = sp.fraction(sp.simplify(sp.expand(tf7a)))  #simplificamos y separamos numerador y denominador\n",
    "\n",
    "\n",
    "num = sp.Poly(num,s)\n",
    "den = sp.Poly(den,s)\n",
    "\n",
    "\n",
    "k = sp.simplify(num.LC() / den.LC()) #obtenemos la constante, y la simplificamos\n",
    "\n",
    "\n",
    "\n",
    "num = num.monic() #hacemos que el numerador y denominador sean monicos\n",
    "den = den.monic()\n",
    "\n",
    "\n",
    "\n",
    "den_coeffs = den.all_coeffs()\n",
    "wo = den_coeffs[-1]\n",
    "\n",
    "tf7a_final = sp.Mul(k,num/den, evaluate=False)\n",
    "\n",
    "print('')\n",
    "print('################')\n",
    "print('# Ejercicio 8a #')\n",
    "print('################')\n",
    "display(tf7a_final)\n",
    "display(Math( r' \\omega_o = ' + sp.latex(wo) ))"
   ]
  },
  {
   "cell_type": "markdown",
   "id": "6ae4ef35",
   "metadata": {},
   "source": [
    "Este es un filtro Pasa-altos."
   ]
  },
  {
   "cell_type": "code",
   "execution_count": 16,
   "id": "c5a6b36b",
   "metadata": {},
   "outputs": [
    {
     "name": "stdout",
     "output_type": "stream",
     "text": [
      "\n",
      "################\n",
      "# Ejercicio 8b #\n",
      "################\n"
     ]
    },
    {
     "data": {
      "text/latex": [
       "$\\displaystyle \\frac{s}{s^{2} + \\frac{s \\left(R_{3} R_{5} + R_{4} R_{5}\\right)}{C_{2} R_{1} R_{3} R_{5} + C_{2} R_{1} R_{3} R_{6}} + \\frac{R_{4}}{C_{2} C_{3} R_{1} R_{2} R_{3}}} \\left(- \\frac{R_{6} \\left(R_{3} + R_{4}\\right)}{C_{2} R_{1} R_{3} \\left(R_{5} + R_{6}\\right)}\\right)$"
      ],
      "text/plain": [
       "(s/(s**2 + s*(R3*R5 + R4*R5)/(C2*R1*R3*R5 + C2*R1*R3*R6) + R4/(C2*C3*R1*R2*R3)))*(-R6*(R3 + R4)/(C2*R1*R3*(R5 + R6)))"
      ]
     },
     "metadata": {},
     "output_type": "display_data"
    },
    {
     "data": {
      "text/latex": [
       "$\\displaystyle  \\omega_o = \\frac{R_{4}}{C_{2} C_{3} R_{1} R_{2} R_{3}}$"
      ],
      "text/plain": [
       "<IPython.core.display.Math object>"
      ]
     },
     "metadata": {},
     "output_type": "display_data"
    }
   ],
   "source": [
    "# Ejercicio 8.b:\n",
    "\n",
    "transf_func = aa[V2]/aa[Vi] #Aca defino mi transf_funct como el cociente entre Vo y Vi (Vo/Vi). Tambien es simbolica\n",
    "\n",
    "tf7a = transf_func.subs(Z2, 1/(s*C2)) #reemplazo Z2 e Z3 por sus respectivos valores simbolicos\n",
    "tf7a = tf7a.subs(Z3, 1/(s*C3))\n",
    "\n",
    "num, den = sp.fraction(sp.simplify(sp.expand(tf7a)))  #simplificamos y separamos numerador y denominador\n",
    "\n",
    "\n",
    "num = sp.Poly(num,s)\n",
    "den = sp.Poly(den,s)\n",
    "\n",
    "\n",
    "k = sp.simplify(num.LC() / den.LC()) #obtenemos la constante, y la simplificamos\n",
    "\n",
    "num = num.monic() #hacemos que el numerador y denominador sean monicos\n",
    "den = den.monic()\n",
    "\n",
    "den_coeffs = den.all_coeffs()\n",
    "wo = den_coeffs[-1]\n",
    "\n",
    "tf7a_final = sp.Mul(k,num/den, evaluate=False)\n",
    "\n",
    "\n",
    "print('')\n",
    "print('################')\n",
    "print('# Ejercicio 8b #')\n",
    "print('################')\n",
    "display(tf7a_final)\n",
    "display(Math( r' \\omega_o = ' + sp.latex(wo) ))\n",
    "\n"
   ]
  },
  {
   "cell_type": "markdown",
   "id": "6b40583c",
   "metadata": {},
   "source": [
    "Este es un filtro Pasa-banda."
   ]
  },
  {
   "cell_type": "code",
   "execution_count": 17,
   "id": "4d857cf0",
   "metadata": {},
   "outputs": [
    {
     "name": "stdout",
     "output_type": "stream",
     "text": [
      "\n",
      "################\n",
      "# Ejercicio 8c #\n",
      "################\n"
     ]
    },
    {
     "data": {
      "text/latex": [
       "$\\displaystyle \\frac{\\frac{1}{C_{2}} \\frac{1}{C_{3}} \\frac{1}{R_{1}} \\frac{1}{R_{2}} \\frac{1}{R_{3}} R_{6} \\left(R_{3} + R_{4}\\right) \\frac{1}{R_{5} + R_{6}}}{s^{2} + \\frac{s \\left(R_{3} R_{5} + R_{4} R_{5}\\right)}{C_{2} R_{1} R_{3} R_{5} + C_{2} R_{1} R_{3} R_{6}} + \\frac{R_{4}}{C_{2} C_{3} R_{1} R_{2} R_{3}}}$"
      ],
      "text/plain": [
       "(R6*(R3 + R4)/(C2*C3*R1*R2*R3*(R5 + R6)))/(s**2 + s*(R3*R5 + R4*R5)/(C2*R1*R3*R5 + C2*R1*R3*R6) + R4/(C2*C3*R1*R2*R3))"
      ]
     },
     "metadata": {},
     "output_type": "display_data"
    },
    {
     "data": {
      "text/latex": [
       "$\\displaystyle  \\omega_o = \\frac{R_{4}}{C_{2} C_{3} R_{1} R_{2} R_{3}}$"
      ],
      "text/plain": [
       "<IPython.core.display.Math object>"
      ]
     },
     "metadata": {},
     "output_type": "display_data"
    }
   ],
   "source": [
    "# Ejercicio 8.c:\n",
    "\n",
    "transf_func = aa[V3]/aa[Vi] #Aca defino mi transf_funct como el cociente entre Vo y Vi (Vo/Vi). Tambien es simbolica\n",
    "\n",
    "tf7a = transf_func.subs(Z2, 1/(s*C2)) #reemplazo Z2 e Z3 por sus respectivos valores simbolicos\n",
    "tf7a = tf7a.subs(Z3, 1/(s*C3))\n",
    "\n",
    "num, den = sp.fraction(sp.simplify(sp.expand(tf7a)))  #simplificamos y separamos numerador y denominador\n",
    "\n",
    "\n",
    "num = sp.Poly(num,s)\n",
    "den = sp.Poly(den,s)\n",
    "\n",
    "\n",
    "k = sp.simplify(num.LC() / den.LC()) #obtenemos la constante, y la simplificamos\n",
    "\n",
    "num = num.monic() #hacemos que el numerador y denominador sean monicos\n",
    "den = den.monic()\n",
    "\n",
    "den_coeffs = den.all_coeffs()\n",
    "wo = den_coeffs[-1]\n",
    "\n",
    "tf7a_final = sp.Mul(k,num/den, evaluate=False)\n",
    "\n",
    "\n",
    "print('')\n",
    "print('################')\n",
    "print('# Ejercicio 8c #')\n",
    "print('################')\n",
    "display(tf7a_final)\n",
    "display(Math( r' \\omega_o = ' + sp.latex(wo) ))\n"
   ]
  },
  {
   "cell_type": "markdown",
   "id": "8d6a3e4f",
   "metadata": {},
   "source": [
    "Este es un filtro Pasa-bajos."
   ]
  },
  {
   "cell_type": "code",
   "execution_count": null,
   "id": "68d6086e",
   "metadata": {},
   "outputs": [],
   "source": []
  }
 ],
 "metadata": {
  "kernelspec": {
   "display_name": "Python 3 (ipykernel)",
   "language": "python",
   "name": "python3"
  },
  "language_info": {
   "codemirror_mode": {
    "name": "ipython",
    "version": 3
   },
   "file_extension": ".py",
   "mimetype": "text/x-python",
   "name": "python",
   "nbconvert_exporter": "python",
   "pygments_lexer": "ipython3",
   "version": "3.9.7"
  }
 },
 "nbformat": 4,
 "nbformat_minor": 5
}
