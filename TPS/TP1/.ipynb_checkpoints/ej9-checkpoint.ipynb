{
 "cells": [
  {
   "cell_type": "code",
   "execution_count": 1,
   "id": "8bfdebb8",
   "metadata": {},
   "outputs": [
    {
     "name": "stdout",
     "output_type": "stream",
     "text": [
      "\n",
      "################\n",
      "# Ejercicio 9 #\n",
      "################\n"
     ]
    },
    {
     "data": {
      "text/latex": [
       "$\\displaystyle \\frac{\\left(-1\\right) \\frac{1}{C_{2}} \\frac{1}{C_{5}} \\frac{1}{R_{1}} \\frac{1}{R_{3}}}{s^{2} + \\frac{s \\left(R_{1} R_{3} + R_{1} R_{4} + R_{3} R_{4}\\right)}{C_{2} R_{1} R_{3} R_{4}} + \\frac{1}{C_{2} C_{5} R_{3} R_{4}}}$"
      ],
      "text/plain": [
       "(-1/(C2*C5*R1*R3))/(s**2 + s*(R1*R3 + R1*R4 + R3*R4)/(C2*R1*R3*R4) + 1/(C2*C5*R3*R4))"
      ]
     },
     "metadata": {},
     "output_type": "display_data"
    },
    {
     "data": {
      "text/latex": [
       "$\\displaystyle  \\omega_o = \\frac{1}{C_{2} C_{5} R_{3} R_{4}}$"
      ],
      "text/plain": [
       "<IPython.core.display.Math object>"
      ]
     },
     "metadata": {},
     "output_type": "display_data"
    }
   ],
   "source": [
    "import sympy as sp\n",
    "from sympy.abc import s\n",
    "from IPython.display import display, Math\n",
    "\n",
    "Vi, Vo, Vx = sp.symbols(\"Vi, Vo, Vx\")\n",
    "R1, Z2, R3, R4, Z5, C2, C5 = sp.symbols(\"R1, Z2, R3, R4, Z5, C2, C5\")\n",
    "\n",
    "aa = sp.solve([  #despeja Vi y Vo en base a las ecuaciones (Me quedan en funcion de Vx)\n",
    "                Vi/R1 -Vx*((1/R1) + (1/R3) + (1/R4) + (1/Z2)) + Vo/R4, \n",
    "                Vx + Vo*(R3/Z5)\n",
    "                ], \n",
    "                [Vi, Vo])\n",
    "\n",
    "transf_func = aa[Vo]/aa[Vi] #Aca defino mi transf_funct como el cociente entre Vo y Vi (Vo/Vi). Tambien es simbolica\n",
    "\n",
    "\n",
    "# Ejercicio 7.a: Pasatodo de 1er orden\n",
    "\n",
    "tf7a = transf_func.subs(Z2, 1/(s*C2)) #reemplazo Y1 e Y2 por sus respectivos valores simbolicos\n",
    "tf7a = tf7a.subs(Z5, 1/(s*C5))\n",
    "\n",
    "num, den = sp.fraction(sp.simplify(sp.expand(tf7a)))  #simplificamos y separamos numerador y denominador\n",
    "\n",
    "\n",
    "num = sp.Poly(num,s)\n",
    "den = sp.Poly(den,s)\n",
    "\n",
    "\n",
    "k = sp.simplify(num.LC() / den.LC()) #obtenemos la constante, y la simplificamos\n",
    "\n",
    "num = num.monic() #hacemos que el numerador y denominador sean monicos\n",
    "den = den.monic()\n",
    "\n",
    "den_coeffs = den.all_coeffs()\n",
    "wo = den_coeffs[-1]\n",
    "\n",
    "tf7a_final = sp.Mul(k,num/den, evaluate=False)\n",
    "\n",
    "print('')\n",
    "print('################')\n",
    "print('# Ejercicio 9 #')\n",
    "print('################')\n",
    "display(tf7a_final)\n",
    "display(Math( r' \\omega_o = ' + sp.latex(wo) ))\n",
    "\n"
   ]
  },
  {
   "cell_type": "markdown",
   "id": "94d2eb64",
   "metadata": {},
   "source": [
    "Si evaluamos para:\n",
    "\n",
    "$ R1=R3=R4=1\\Omega $ \n",
    "\n",
    "$ C2 = 1F$ y $C5 = 0.01F$"
   ]
  },
  {
   "cell_type": "code",
   "execution_count": 6,
   "id": "e0c84327",
   "metadata": {},
   "outputs": [
    {
     "data": {
      "text/latex": [
       "$\\displaystyle - \\frac{100.0}{s^{2} + 3 s + 100.0}$"
      ],
      "text/plain": [
       "-100.0/(s**2 + 3*s + 100.0)"
      ]
     },
     "execution_count": 6,
     "metadata": {},
     "output_type": "execute_result"
    }
   ],
   "source": [
    "tf7a_final.subs({R1:1,R3:1,R4:1, C2:1, C5:0.01})"
   ]
  },
  {
   "cell_type": "code",
   "execution_count": null,
   "id": "cebb5920",
   "metadata": {},
   "outputs": [],
   "source": []
  }
 ],
 "metadata": {
  "kernelspec": {
   "display_name": "Python 3 (ipykernel)",
   "language": "python",
   "name": "python3"
  },
  "language_info": {
   "codemirror_mode": {
    "name": "ipython",
    "version": 3
   },
   "file_extension": ".py",
   "mimetype": "text/x-python",
   "name": "python",
   "nbconvert_exporter": "python",
   "pygments_lexer": "ipython3",
   "version": "3.9.7"
  }
 },
 "nbformat": 4,
 "nbformat_minor": 5
}
