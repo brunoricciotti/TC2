{
 "cells": [
  {
   "cell_type": "markdown",
   "id": "c769943a",
   "metadata": {},
   "source": [
    "# TP1 TC2"
   ]
  },
  {
   "cell_type": "markdown",
   "id": "c4fea267",
   "metadata": {},
   "source": [
    "1. Obtener la función transferencia $\\frac{V_2}{V_1}$ ( módulo , fase y diagrama de polos y ceros).\n",
    "2. Obtenga la función transferencia, pero normalizada. ¿Cuál sería en este caso la norma de frecuencia y qué interpretación circuital podría tener?\n",
    "3. Simule la función transferencia normalizada (Python, Matlab, etc.).\n",
    "4. Simule el circuito y obtenga la respuesta en frecuencia pedida en 1), para los valores:  $\\frac{R_2}{R_1}$ =1; R3=1kΩ y C=1µF\n",
    "5. ¿Qué utilidad podría tener este tipo de circuitos pasa-todo?"
   ]
  },
  {
   "cell_type": "markdown",
   "id": "b905efd8",
   "metadata": {},
   "source": [
    "ec 1: \\begin{equation}\n",
    "(V_1 - V_x)SC= \\frac{V_x}{R_3}\n",
    "\\end{equation}\n",
    "\n",
    "entonces \\begin{equation}\n",
    "V_x = \\frac{SCR_3*V_1}{1+SCR_3}\n",
    "\\end{equation} \n",
    "\n",
    "ec 2: \\begin{equation} \\frac{V_1-V_x}{R_1} = \\frac{V_x-V_2}{R_2}\\end{equation} \n",
    "\n",
    "reemplazando 2 en 1 y operando llegamos a:\n",
    "\n",
    "\\begin{equation} H(S) = \\frac{S -\\frac{R_2}{CR_1R_3}}{S + \\frac{1}{CR_3}}\\end{equation} "
   ]
  },
  {
   "cell_type": "code",
   "execution_count": null,
   "id": "a017e37e",
   "metadata": {},
   "outputs": [],
   "source": []
  }
 ],
 "metadata": {
  "kernelspec": {
   "display_name": "Python 3 (ipykernel)",
   "language": "python",
   "name": "python3"
  },
  "language_info": {
   "codemirror_mode": {
    "name": "ipython",
    "version": 3
   },
   "file_extension": ".py",
   "mimetype": "text/x-python",
   "name": "python",
   "nbconvert_exporter": "python",
   "pygments_lexer": "ipython3",
   "version": "3.9.7"
  }
 },
 "nbformat": 4,
 "nbformat_minor": 5
}
