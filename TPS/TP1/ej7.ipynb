{
 "cells": [
  {
   "cell_type": "markdown",
   "id": "d83c16c2",
   "metadata": {},
   "source": [
    "# Ejercicio 7.a: Pasatodo de 1er orden"
   ]
  },
  {
   "cell_type": "code",
   "execution_count": 2,
   "id": "995b01d6",
   "metadata": {},
   "outputs": [
    {
     "name": "stdout",
     "output_type": "stream",
     "text": [
      "\n",
      "################\n",
      "# Ejercicio 7a #\n",
      "################\n"
     ]
    },
    {
     "data": {
      "text/latex": [
       "$\\displaystyle 1 \\frac{s - \\frac{G_{1}}{C G_{2} R}}{s + \\frac{1}{C R}}$"
      ],
      "text/plain": [
       "1*((s - G1/(C*G2*R))/(s + 1/(C*R)))"
      ]
     },
     "metadata": {},
     "output_type": "display_data"
    },
    {
     "data": {
      "text/latex": [
       "$\\displaystyle  \\omega_o = \\frac{1}{C R}$"
      ],
      "text/plain": [
       "<IPython.core.display.Math object>"
      ]
     },
     "metadata": {},
     "output_type": "display_data"
    }
   ],
   "source": [
    "#!/usr/bin/env python3\n",
    "# -*- coding: utf-8 -*-\n",
    "\"\"\"\n",
    "Created on Mon Apr 11 10:52:56 2022\n",
    "\n",
    "@author: mariano\n",
    "\"\"\"\n",
    "\n",
    "import sympy as sp\n",
    "from sympy.abc import s\n",
    "from IPython.display import display, Math\n",
    "\n",
    "Vi, Vo, Vx = sp.symbols(\"Vi, Vo, Vx\")\n",
    "G1, G2, Y1, Y2, R, C = sp.symbols(\"G1, G2, Y1, Y2, R, C\")\n",
    "\n",
    "aa = sp.solve([  #despeja Vi y Vo en base a las ecuaciones (Me quedan en funcion de Vx)\n",
    "                Vx*(Y1+Y2)-Vi*Y1, \n",
    "                Vx*(G1+G2) -Vi*G1 -Vo*G2\n",
    "                ], \n",
    "                [Vi, Vo])\n",
    "\n",
    "transf_func = aa[Vo]/aa[Vi] #Aca defino mi transf_funct como el cociente entre Vo y Vi (Vo/Vi). Tambien es simbolica\n",
    "\n",
    "\n",
    "# Ejercicio 7.a: Pasatodo de 1er orden\n",
    "\n",
    "tf7a = transf_func.subs(Y1, s*C) #reemplazo Y1 e Y2 por sus respectivos valores simbolicos\n",
    "tf7a = tf7a.subs(Y2, 1/R)\n",
    "\n",
    "num, den = sp.fraction(sp.simplify(sp.expand(tf7a)))  #simplificamos y separamos numerador y denominador\n",
    "\n",
    "\n",
    "num = sp.Poly(num,s)\n",
    "den = sp.Poly(den,s)\n",
    "\n",
    "\n",
    "k = num.LC() / den.LC()\n",
    "\n",
    "num = num.monic() #hacemos que el numerador y denominador sean monicos\n",
    "den = den.monic()\n",
    "\n",
    "den_coeffs = den.all_coeffs()\n",
    "wo = den_coeffs[-1]\n",
    "\n",
    "tf7a_final = sp.Mul(k,num/den, evaluate=False)\n",
    "\n",
    "print('')\n",
    "print('################')\n",
    "print('# Ejercicio 7a #')\n",
    "print('################')\n",
    "display(tf7a_final)\n",
    "display(Math( r' \\omega_o = ' + sp.latex(wo) ))"
   ]
  },
  {
   "cell_type": "markdown",
   "id": "d8a3f3e8",
   "metadata": {},
   "source": [
    "# Ejercicio 7.b: Pasatodo de 2do orden"
   ]
  },
  {
   "cell_type": "code",
   "execution_count": 5,
   "id": "96bc9d3f",
   "metadata": {},
   "outputs": [
    {
     "name": "stdout",
     "output_type": "stream",
     "text": [
      "\n",
      "\n",
      "################\n",
      "# Ejercicio 7b #\n",
      "################\n"
     ]
    },
    {
     "data": {
      "text/latex": [
       "$\\displaystyle - \\frac{G_{1}}{G_{2}} \\frac{s^{2} + \\frac{s \\left(2 G_{1} - G_{2}\\right)}{C G_{1} R} + \\frac{1}{C^{2} R^{2}}}{s^{2} + \\frac{3 s}{C R} + \\frac{1}{C^{2} R^{2}}}$"
      ],
      "text/plain": [
       "(-G1/G2)*((s**2 + s*(2*G1 - G2)/(C*G1*R) + 1/(C**2*R**2))/(s**2 + 3*s/(C*R) + 1/(C**2*R**2)))"
      ]
     },
     "metadata": {},
     "output_type": "display_data"
    },
    {
     "data": {
      "text/latex": [
       "$\\displaystyle  \\omega_o^2 = \\frac{1}{C^{2} R^{2}}$"
      ],
      "text/plain": [
       "<IPython.core.display.Math object>"
      ]
     },
     "metadata": {},
     "output_type": "display_data"
    },
    {
     "data": {
      "text/latex": [
       "$\\displaystyle  Q = \\frac{1}{3}$"
      ],
      "text/plain": [
       "<IPython.core.display.Math object>"
      ]
     },
     "metadata": {},
     "output_type": "display_data"
    }
   ],
   "source": [
    "tf7b = transf_func.subs(Y1, 1/(R+1/s/C))\n",
    "tf7b = tf7b.subs(Y2, 1/R+s*C)\n",
    "\n",
    "num, den = sp.fraction(sp.simplify(sp.expand(tf7b)))\n",
    "\n",
    "num = sp.Poly(num,s)\n",
    "den = sp.Poly(den,s)\n",
    "\n",
    "k = num.LC() / den.LC()\n",
    "\n",
    "num = num.monic()\n",
    "den = den.monic()\n",
    "\n",
    "## parametrizamos en función de \\omega_o y Q\n",
    "den_coeffs = den.all_coeffs()\n",
    "wo_sq = den_coeffs[-1]\n",
    "qq = sp.powsimp(sp.sqrt(1/(den_coeffs[1]**2 / wo_sq)))\n",
    "\n",
    "tf7b_final = sp.Mul(k,num/den, evaluate=False)\n",
    "\n",
    "print('')\n",
    "print('')\n",
    "print('################')\n",
    "print('# Ejercicio 7b #')\n",
    "print('################')\n",
    "display(tf7b_final)\n",
    "display(Math( r' \\omega_o^2 = ' + sp.latex(wo_sq) ))\n",
    "display(Math( r' Q = ' + sp.latex(qq) ))"
   ]
  },
  {
   "cell_type": "code",
   "execution_count": null,
   "id": "4f660931",
   "metadata": {},
   "outputs": [],
   "source": []
  }
 ],
 "metadata": {
  "kernelspec": {
   "display_name": "Python 3 (ipykernel)",
   "language": "python",
   "name": "python3"
  },
  "language_info": {
   "codemirror_mode": {
    "name": "ipython",
    "version": 3
   },
   "file_extension": ".py",
   "mimetype": "text/x-python",
   "name": "python",
   "nbconvert_exporter": "python",
   "pygments_lexer": "ipython3",
   "version": "3.9.7"
  }
 },
 "nbformat": 4,
 "nbformat_minor": 5
}
